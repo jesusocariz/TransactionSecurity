{
 "cells": [
  {
   "cell_type": "markdown",
   "metadata": {},
   "source": [
    "# Transactions..."
   ]
  },
  {
   "cell_type": "code",
   "execution_count": 1,
   "metadata": {},
   "outputs": [],
   "source": [
    "import pandas as pd\n",
    "import numpy as np\n",
    "import holidays\n",
    "\n",
    "import seaborn as sns\n",
    "import matplotlib.pyplot as plt\n",
    "from scipy.stats import chi2_contingency\n",
    "import statsmodels.api as sm\n",
    "\n",
    "from sklearn.linear_model import LogisticRegression\n",
    "from sklearn.model_selection import train_test_split, cross_val_score\n",
    "from sklearn.preprocessing import StandardScaler, LabelEncoder\n",
    "from sklearn.ensemble import RandomForestClassifier\n",
    "from xgboost import XGBClassifier\n",
    "from sklearn.metrics import classification_report, accuracy_score"
   ]
  },
  {
   "cell_type": "markdown",
   "metadata": {},
   "source": [
    "From 118K transactions, a minority 875 is flagged.\n",
    "\n",
    "We have two files, transactions with the 118K transactions of a year (with some features) and labels (the 875 events flagged and their reported time)."
   ]
  },
  {
   "cell_type": "code",
   "execution_count": 2,
   "metadata": {},
   "outputs": [],
   "source": [
    "df = pd.read_csv(\"Data/transactions_obf.csv\")\n",
    "aux = pd.read_csv(\"Data/labels_obf.csv\")"
   ]
  },
  {
   "cell_type": "markdown",
   "metadata": {},
   "source": [
    "We first merge them and create a binary variable of the reported transactions."
   ]
  },
  {
   "cell_type": "code",
   "execution_count": 3,
   "metadata": {},
   "outputs": [],
   "source": [
    "df = df.merge(aux, how='left', on=['eventId'])\n",
    "df['flag'] = np.where(df.reportedTime.notnull(), 1, 0)\n"
   ]
  },
  {
   "cell_type": "markdown",
   "metadata": {},
   "source": [
    "We study the average time needed to flag a transaction."
   ]
  },
  {
   "cell_type": "code",
   "execution_count": 4,
   "metadata": {},
   "outputs": [],
   "source": [
    "df['transactionTime']= pd.to_datetime(df['transactionTime'])\n",
    "df['reportedTime']= pd.to_datetime(df['reportedTime'])\n",
    "df['daysDetection'] = (df['reportedTime'] - df['transactionTime']).dt.total_seconds() / (3600*24)"
   ]
  },
  {
   "cell_type": "markdown",
   "metadata": {},
   "source": [
    "It takes 9 days and a half on average to flag the transactions."
   ]
  },
  {
   "cell_type": "code",
   "execution_count": 5,
   "metadata": {},
   "outputs": [
    {
     "data": {
      "text/plain": [
       "count    875.000000\n",
       "mean       9.473981\n",
       "std       16.636215\n",
       "min       -0.032731\n",
       "25%        1.638721\n",
       "50%        3.504236\n",
       "75%        5.635399\n",
       "max       95.156192\n",
       "Name: daysDetection, dtype: float64"
      ]
     },
     "execution_count": 5,
     "metadata": {},
     "output_type": "execute_result"
    }
   ],
   "source": [
    "df['daysDetection'].describe()"
   ]
  },
  {
   "cell_type": "markdown",
   "metadata": {},
   "source": [
    "There is only one negative one, and the reason is due to the lack of preccision in the time of the reported time."
   ]
  },
  {
   "cell_type": "code",
   "execution_count": 6,
   "metadata": {},
   "outputs": [
    {
     "data": {
      "text/html": [
       "<div>\n",
       "<style scoped>\n",
       "    .dataframe tbody tr th:only-of-type {\n",
       "        vertical-align: middle;\n",
       "    }\n",
       "\n",
       "    .dataframe tbody tr th {\n",
       "        vertical-align: top;\n",
       "    }\n",
       "\n",
       "    .dataframe thead th {\n",
       "        text-align: right;\n",
       "    }\n",
       "</style>\n",
       "<table border=\"1\" class=\"dataframe\">\n",
       "  <thead>\n",
       "    <tr style=\"text-align: right;\">\n",
       "      <th></th>\n",
       "      <th>transactionTime</th>\n",
       "      <th>eventId</th>\n",
       "      <th>accountNumber</th>\n",
       "      <th>merchantId</th>\n",
       "      <th>mcc</th>\n",
       "      <th>merchantCountry</th>\n",
       "      <th>merchantZip</th>\n",
       "      <th>posEntryMode</th>\n",
       "      <th>transactionAmount</th>\n",
       "      <th>availableCash</th>\n",
       "      <th>reportedTime</th>\n",
       "      <th>flag</th>\n",
       "      <th>daysDetection</th>\n",
       "    </tr>\n",
       "  </thead>\n",
       "  <tbody>\n",
       "    <tr>\n",
       "      <th>35988</th>\n",
       "      <td>2017-05-01 00:47:08+00:00</td>\n",
       "      <td>2547545A1</td>\n",
       "      <td>c9882f1c</td>\n",
       "      <td>5d3676</td>\n",
       "      <td>4814</td>\n",
       "      <td>826</td>\n",
       "      <td>RG14</td>\n",
       "      <td>1</td>\n",
       "      <td>51.0</td>\n",
       "      <td>7500</td>\n",
       "      <td>2017-05-01 00:00:00+00:00</td>\n",
       "      <td>1</td>\n",
       "      <td>-0.032731</td>\n",
       "    </tr>\n",
       "  </tbody>\n",
       "</table>\n",
       "</div>"
      ],
      "text/plain": [
       "                transactionTime    eventId accountNumber merchantId   mcc  \\\n",
       "35988 2017-05-01 00:47:08+00:00  2547545A1      c9882f1c     5d3676  4814   \n",
       "\n",
       "       merchantCountry merchantZip  posEntryMode  transactionAmount  \\\n",
       "35988              826        RG14             1               51.0   \n",
       "\n",
       "       availableCash              reportedTime  flag  daysDetection  \n",
       "35988           7500 2017-05-01 00:00:00+00:00     1      -0.032731  "
      ]
     },
     "execution_count": 6,
     "metadata": {},
     "output_type": "execute_result"
    }
   ],
   "source": [
    "df[df.daysDetection < 0]"
   ]
  },
  {
   "cell_type": "markdown",
   "metadata": {},
   "source": [
    "We are going to create some new features that are going to try to help to predict when a transaction is a fraud.\n",
    "\n",
    "Regarding time, we can hypothesise that night transactions could be more likely to be fraud, as well as weekend transactions or holiday times."
   ]
  },
  {
   "cell_type": "code",
   "execution_count": 7,
   "metadata": {},
   "outputs": [
    {
     "name": "stdout",
     "output_type": "stream",
     "text": [
      "{datetime.date(2017, 4, 14): 'Good Friday', datetime.date(2017, 5, 1): 'May Day', datetime.date(2017, 5, 29): 'Spring Bank Holiday', datetime.date(2017, 1, 1): \"New Year's Day\", datetime.date(2017, 1, 2): \"New Year's Day (observed)\", datetime.date(2017, 12, 25): 'Christmas Day', datetime.date(2017, 12, 26): 'Boxing Day', datetime.date(2018, 3, 30): 'Good Friday', datetime.date(2018, 5, 7): 'May Day', datetime.date(2018, 5, 28): 'Spring Bank Holiday', datetime.date(2018, 1, 1): \"New Year's Day\", datetime.date(2018, 12, 25): 'Christmas Day', datetime.date(2018, 12, 26): 'Boxing Day'}\n"
     ]
    }
   ],
   "source": [
    "# Extract hour, month, day of the week\n",
    "df['hour'] = df['transactionTime'].dt.hour\n",
    "df['month'] = df['transactionTime'].dt.month\n",
    "df['year'] = df['transactionTime'].dt.year\n",
    "df['dayType'] = df['transactionTime'].dt.dayofweek  # Monday=0, Sunday=6\n",
    "\n",
    "# Create a holiday binary variable\n",
    "uk_holidays = holidays.UK(years=[2017,2018])  # You can change this to holidays.US(), etc.\n",
    "df['isHoliday'] = df['transactionTime'].dt.date.isin(uk_holidays)\n",
    "print(uk_holidays)\n",
    "\n"
   ]
  },
  {
   "cell_type": "code",
   "execution_count": 8,
   "metadata": {},
   "outputs": [
    {
     "data": {
      "image/png": "[encoded data removed]",
      "text/plain": [
       "<Figure size 1200x500 with 1 Axes>"
      ]
     },
     "metadata": {},
     "output_type": "display_data"
    },
    {
     "data": {
      "image/png": "[encoded data removed]",
      "text/plain": [
       "<Figure size 1200x500 with 1 Axes>"
      ]
     },
     "metadata": {},
     "output_type": "display_data"
    },
    {
     "data": {
      "image/png": "[encoded data removed]",
      "text/plain": [
       "<Figure size 1200x500 with 1 Axes>"
      ]
     },
     "metadata": {},
     "output_type": "display_data"
    },
    {
     "data": {
      "image/png": "[encoded data removed]",
      "text/plain": [
       "<Figure size 1200x600 with 2 Axes>"
      ]
     },
     "metadata": {},
     "output_type": "display_data"
    },
    {
     "data": {
      "image/png": "[encoded data removed]",
      "text/plain": [
       "<Figure size 1200x600 with 2 Axes>"
      ]
     },
     "metadata": {},
     "output_type": "display_data"
    },
    {
     "name": "stdout",
     "output_type": "stream",
     "text": [
      "Chi-square test for hour: p-value = 0.0000\n",
      "Chi-square test for month: p-value = 0.0000\n",
      "Optimization terminated successfully.\n",
      "         Current function value: 0.043339\n",
      "         Iterations 9\n",
      "                           Logit Regression Results                           \n",
      "==============================================================================\n",
      "Dep. Variable:                   flag   No. Observations:               118621\n",
      "Model:                          Logit   Df Residuals:                   118618\n",
      "Method:                           MLE   Df Model:                            2\n",
      "Date:                Fri, 21 Feb 2025   Pseudo R-squ.:                0.005143\n",
      "Time:                        14:56:48   Log-Likelihood:                -5141.0\n",
      "converged:                       True   LL-Null:                       -5167.5\n",
      "Covariance Type:            nonrobust   LLR p-value:                 2.873e-12\n",
      "==============================================================================\n",
      "                 coef    std err          z      P>|z|      [0.025      0.975]\n",
      "------------------------------------------------------------------------------\n",
      "const         -4.8881      0.089    -54.796      0.000      -5.063      -4.713\n",
      "hour          -0.0272      0.005     -5.486      0.000      -0.037      -0.017\n",
      "month          0.0463      0.010      4.864      0.000       0.028       0.065\n",
      "==============================================================================\n"
     ]
    }
   ],
   "source": [
    "# 1. Aggregation - Compute Proportion of Y = 1 by Hour and Month\n",
    "hourly_prob = df.groupby('hour')['flag'].mean()\n",
    "monthly_prob = df.groupby('month')['flag'].mean()\n",
    "dayType_prob = df.groupby('dayType')['flag'].mean()\n",
    "\n",
    "# 2. Visualization\n",
    "plt.figure(figsize=(12, 5))\n",
    "sns.barplot(x=hourly_prob.index, y=hourly_prob.values)\n",
    "plt.xlabel(\"Hour of Day\")\n",
    "plt.ylabel(\"P(Y=1)\")\n",
    "plt.title(\"Proportion of Y=1 by Hour\")\n",
    "plt.show()\n",
    "\n",
    "plt.figure(figsize=(12, 5))\n",
    "sns.barplot(x=monthly_prob.index, y=monthly_prob.values)\n",
    "plt.xlabel(\"Month\")\n",
    "plt.ylabel(\"P(Y=1)\")\n",
    "plt.title(\"Proportion of Y=1 by Month\")\n",
    "plt.show()\n",
    "\n",
    "plt.figure(figsize=(12, 5))\n",
    "sns.barplot(x=dayType_prob.index, y=dayType_prob.values)\n",
    "plt.xlabel(\"Day of the week\")\n",
    "plt.ylabel(\"P(Y=1)\")\n",
    "plt.title(\"Proportion of Y=1 by Month\")\n",
    "plt.show()\n",
    "\n",
    "\n",
    "# 3. Heatmap of Hour vs. Month\n",
    "heatmap_data = df.pivot_table(values='flag', index='month', columns='hour', aggfunc='mean')\n",
    "plt.figure(figsize=(12, 6))\n",
    "sns.heatmap(heatmap_data, cmap=\"coolwarm\", annot=True, fmt=\".2f\")\n",
    "plt.xlabel(\"Hour of Day\")\n",
    "plt.ylabel(\"Month\")\n",
    "plt.title(\"Heatmap of P(Y=1) by Hour and Month\")\n",
    "plt.show()\n",
    "\n",
    "\n",
    "heatmap_data2 = df.pivot_table(values='flag', index='month', columns='dayType', aggfunc='mean')\n",
    "plt.figure(figsize=(12, 6))\n",
    "sns.heatmap(heatmap_data2, cmap=\"coolwarm\", annot=True, fmt=\".2f\")\n",
    "plt.xlabel(\"Type of Day\")\n",
    "plt.ylabel(\"Month\")\n",
    "plt.title(\"Heatmap of P(Y=1) by DayType and Month\")\n",
    "plt.show()\n",
    "\n",
    "# 4. Chi-Square Test (Check Dependency between Time Variables and Y)\n",
    "def chi_square_test(feature):\n",
    "    contingency_table = pd.crosstab(df[feature], df['flag'])\n",
    "    chi2, p, dof, expected = chi2_contingency(contingency_table)\n",
    "    print(f\"Chi-square test for {feature}: p-value = {p:.4f}\")\n",
    "    return p\n",
    "\n",
    "chi_square_test(\"hour\")\n",
    "chi_square_test(\"month\")\n",
    "\n",
    "# 5. Logistic Regression Model\n",
    "# Convert categorical variables into dummy variables\n",
    "X = pd.get_dummies(df[['hour', 'month']], drop_first=True)\n",
    "y = df['flag']\n",
    "X = sm.add_constant(X)  # Add intercept\n",
    "model = sm.Logit(y, X).fit()\n",
    "print(model.summary())\n"
   ]
  },
  {
   "cell_type": "code",
   "execution_count": 9,
   "metadata": {},
   "outputs": [
    {
     "data": {
      "text/plain": [
       "isHoliday\n",
       "False    0.007483\n",
       "True     0.001799\n",
       "Name: flag, dtype: float64"
      ]
     },
     "execution_count": 9,
     "metadata": {},
     "output_type": "execute_result"
    }
   ],
   "source": [
    "vacation_prob = df.groupby('isHoliday')['flag'].mean()\n",
    "vacation_prob"
   ]
  },
  {
   "cell_type": "markdown",
   "metadata": {},
   "source": [
    "We have 766 people."
   ]
  },
  {
   "cell_type": "code",
   "execution_count": 10,
   "metadata": {},
   "outputs": [
    {
     "name": "stdout",
     "output_type": "stream",
     "text": [
      "302\n"
     ]
    }
   ],
   "source": [
    "freq = df['accountNumber'].value_counts()\n",
    "ranking = {cat: rank + 1 for rank, (cat, _) in enumerate(freq.items())}\n",
    "\n",
    "df['ranking'] = df['accountNumber'].map(ranking)\n",
    "\n",
    "threshold = 100  \n",
    "print( (freq > threshold).sum())"
   ]
  },
  {
   "cell_type": "code",
   "execution_count": 11,
   "metadata": {},
   "outputs": [],
   "source": [
    "# Compute quartiles\n",
    "quartiles = df['ranking'].quantile([0.25, 0.5, 0.75]).values\n",
    "bins = [df['ranking'].min() - 1] + list(quartiles) + [df['ranking'].max() + 1]\n",
    "\n",
    "# Discretize using pd.cut()\n",
    "df['quartileNumberTransactions'] = pd.cut(df['ranking'], bins=bins, labels=['1', '2', '3', '4']).astype(int)"
   ]
  },
  {
   "cell_type": "code",
   "execution_count": 12,
   "metadata": {},
   "outputs": [],
   "source": [
    "df['transactionAmountRounded'] = df['transactionAmount'].round(2).astype(str)\n",
    "df['transactionAmountRounded'] = df['transactionAmountRounded'].apply(lambda x: str(x).split('.')[-1]).astype(int)\n",
    "df['transactionAmountEnds00'] = df['transactionAmountRounded'].apply(lambda x: x == 0)\n",
    "df['transactionAmountEndsX0'] = df['transactionAmountRounded'].apply(lambda x: x < 10)\n",
    "df = df.drop(columns=['transactionAmountRounded'])"
   ]
  },
  {
   "cell_type": "code",
   "execution_count": 13,
   "metadata": {},
   "outputs": [
    {
     "data": {
      "text/plain": [
       "transactionAmountEnds00\n",
       "False    0.007611\n",
       "True     0.006643\n",
       "Name: flag, dtype: float64"
      ]
     },
     "execution_count": 13,
     "metadata": {},
     "output_type": "execute_result"
    }
   ],
   "source": [
    "prob = df.groupby('transactionAmountEnds00')['flag'].mean()\n",
    "prob"
   ]
  },
  {
   "cell_type": "code",
   "execution_count": 14,
   "metadata": {},
   "outputs": [
    {
     "name": "stderr",
     "output_type": "stream",
     "text": [
      "/var/folders/8s/3ckbm4gn5tzg2dspgywczq300000gn/T/ipykernel_2822/3459562872.py:3: UserWarning: Converting to PeriodArray/Index representation will drop timezone information.\n",
      "  df['orderWeek'] = df.groupby(['accountNumber', df['transactionTime'].dt.to_period('W')]).cumcount() + 1\n",
      "/var/folders/8s/3ckbm4gn5tzg2dspgywczq300000gn/T/ipykernel_2822/3459562872.py:4: UserWarning: Converting to PeriodArray/Index representation will drop timezone information.\n",
      "  df['orderMonth'] = df.groupby(['accountNumber', df['transactionTime'].dt.to_period('M')]).cumcount() + 1\n"
     ]
    }
   ],
   "source": [
    "# Assign order of transactions within each day, week, and month\n",
    "df['orderDay'] = df.groupby(['accountNumber', df['transactionTime'].dt.date]).cumcount() + 1\n",
    "df['orderWeek'] = df.groupby(['accountNumber', df['transactionTime'].dt.to_period('W')]).cumcount() + 1\n",
    "df['orderMonth'] = df.groupby(['accountNumber', df['transactionTime'].dt.to_period('M')]).cumcount() + 1"
   ]
  },
  {
   "cell_type": "code",
   "execution_count": 15,
   "metadata": {},
   "outputs": [],
   "source": [
    "df = df.sort_values(by=['accountNumber', 'transactionTime'])\n",
    "df = df.reset_index()"
   ]
  },
  {
   "cell_type": "code",
   "execution_count": 16,
   "metadata": {},
   "outputs": [],
   "source": [
    "\n",
    "\n",
    "# Compute time difference from the previous transaction of the same accountNumber\n",
    "df['timeDiffHours'] = df.groupby('accountNumber')['transactionTime'].diff().dt.total_seconds() / 3600\n",
    "\n",
    "# Assign -1 to the first transaction of each account\n",
    "df['timeDiffHours'] = df['timeDiffHours'].fillna(-1)\n",
    "\n",
    "\n",
    "\n"
   ]
  },
  {
   "cell_type": "code",
   "execution_count": 17,
   "metadata": {},
   "outputs": [],
   "source": [
    "def cumulative_sum(df, row_idx, time, column='transactionAmount'):\n",
    "    end_index = row_idx\n",
    "    start_index = row_idx\n",
    "    account = df.loc[row_idx, 'accountNumber']\n",
    "    end_time = df.loc[row_idx, 'transactionTime']\n",
    "    while start_index>0:\n",
    "        if df.loc[start_index-1, 'accountNumber'] != account:\n",
    "            break\n",
    "        else:\n",
    "            if (end_time -df.loc[start_index-1, 'transactionTime']).total_seconds() < time:\n",
    "                start_index -= 1\n",
    "            else:\n",
    "                break\n",
    "    if start_index == end_index:\n",
    "        return df.loc[row_idx, column]\n",
    "    return df.loc[start_index:end_index, column].sum()\n",
    "\n",
    "df['amountLastHour'] = df.index.to_series().apply(lambda idx: cumulative_sum(df, idx, 3600))\n",
    "df['amountLastDay'] = df.index.to_series().apply(lambda idx: cumulative_sum(df, idx, 3600*24))\n",
    "df['amountLastWeek'] = df.index.to_series().apply(lambda idx: cumulative_sum(df, idx, 3600*24*7))\n",
    "df['amountLastMonth'] = df.index.to_series().apply(lambda idx: cumulative_sum(df, idx, 3600*24*30))"
   ]
  },
  {
   "cell_type": "code",
   "execution_count": 18,
   "metadata": {},
   "outputs": [],
   "source": [
    "def compute_merchant_risk_score(df):\n",
    "    \"\"\"\n",
    "    Computes a fraud risk score for each merchant based on historical fraud rates.\n",
    "    \n",
    "    Parameters:\n",
    "    df (pd.DataFrame): Transaction data with 'merchantId' and 'flag' columns.\n",
    "    \n",
    "    Returns:\n",
    "    pd.Series: A mapping of merchants to their fraud risk score.\n",
    "    \"\"\"\n",
    "    # Compute fraud rate per merchant\n",
    "    merchant_fraud_rates = df.groupby('merchantId')['flag'].mean()\n",
    "    \n",
    "    # Normalize scores between 0 and 1\n",
    "    risk_score = (merchant_fraud_rates - merchant_fraud_rates.min()) / (merchant_fraud_rates.max() - merchant_fraud_rates.min())\n",
    "    \n",
    "    return risk_score\n",
    "\n",
    "# Example usage\n",
    "\n",
    "df['merchantRiskScore'] = df['merchantId'].map(compute_merchant_risk_score(df[df.year == 2017]))\n",
    "\n",
    "df['merchantRiskScore'] = df['merchantRiskScore'].fillna(1)\n"
   ]
  },
  {
   "cell_type": "code",
   "execution_count": 19,
   "metadata": {},
   "outputs": [],
   "source": [
    "def has_transacted_before(df):\n",
    "    \"\"\"\n",
    "    Checks if a customer has transacted with a merchant before.\n",
    "    \n",
    "    Parameters:\n",
    "    df (pd.DataFrame): Transaction data with 'accountNumber' and 'merchantId'.\n",
    "    \n",
    "    Returns:\n",
    "    pd.Series: 1 if the customer has transacted before, 0 otherwise.\n",
    "    \"\"\"\n",
    "    seen = set()\n",
    "    history = []\n",
    "\n",
    "    for _, row in df.iterrows():\n",
    "        key = (row['accountNumber'], row['merchantId'])\n",
    "        if key in seen:\n",
    "            history.append(1)  # Has transacted before\n",
    "        else:\n",
    "            history.append(0)  # First-time transaction\n",
    "            seen.add(key)\n",
    "\n",
    "    return pd.Series(history)\n",
    "\n",
    "\n",
    "df['frequentMerchant'] = has_transacted_before(df)\n"
   ]
  },
  {
   "cell_type": "code",
   "execution_count": 20,
   "metadata": {},
   "outputs": [],
   "source": [
    "def geographic_deviation(df):\n",
    "    \"\"\"\n",
    "    Flags transactions where the merchant country is unusual for the user.\n",
    "    \n",
    "    Parameters:\n",
    "    df (pd.DataFrame): Transaction data with 'accountNumber' and 'merchantCountry'.\n",
    "    \n",
    "    Returns:\n",
    "    pd.Series: 1 if the country is unusual, 0 otherwise.\n",
    "    \"\"\"\n",
    "    user_country_map = df.groupby('accountNumber')['merchantCountry'].agg(lambda x: x.mode()[0])\n",
    "    return (df['merchantCountry'] != df['accountNumber'].map(user_country_map)).astype(int)\n",
    "\n",
    "\n",
    "df['geoDeviation'] = geographic_deviation(df)\n"
   ]
  },
  {
   "cell_type": "code",
   "execution_count": 21,
   "metadata": {},
   "outputs": [],
   "source": [
    "# NEED TO SOLVE\n",
    "# Fill missing merchantZip with the previous available Zip for the same merchantId\n",
    "def fill_merchant_zip(df):\n",
    "    # Fill NaN with the previous value for the same merchantId\n",
    "    df['merchantZip'] = df.groupby('merchantId')['merchantZip'].apply(lambda x: x.ffill().bfill())\n",
    "    return df\n",
    "\n",
    "# Apply the function\n",
    "#df = fill_merchant_zip(df)"
   ]
  },
  {
   "cell_type": "code",
   "execution_count": 22,
   "metadata": {},
   "outputs": [],
   "source": [
    "def merchant_zip_consistency(df, feature = 'merchantZip'):\n",
    "    \"\"\"\n",
    "    Flags if a customer's transaction is in an unusual ZIP code area based on past transactions.\n",
    "    \n",
    "    Parameters:\n",
    "    df (pd.DataFrame): Transaction data with 'accountNumber' and 'merchantZip' columns.\n",
    "    \n",
    "    Returns:\n",
    "    pd.Series: 1 if the transaction is in an unusual ZIP code, 0 otherwise.\n",
    "    \"\"\"\n",
    "    # Find the most frequent ZIP code for each customer\n",
    "    user_zip_map = df.groupby('accountNumber')['merchantZip'].agg(lambda x: x.mode()[0])\n",
    "    \n",
    "    # Compare current transaction ZIP with the most frequent ZIP for that customer\n",
    "    return (df['merchantZip'] != df['accountNumber'].map(user_zip_map)).astype(int)\n",
    "df['merchantZip'] = df['merchantZip'].astype(str)\n",
    "df['merchantZipLetters'] = df['merchantZip'].str.extract('([A-Za-z]+)', expand=False)\n",
    "\n",
    "df['zipConsistency'] = merchant_zip_consistency(df)\n",
    "df['areaConsistency'] = merchant_zip_consistency(df, feature = 'merchantZipLetters')\n",
    "\n"
   ]
  },
  {
   "cell_type": "code",
   "execution_count": 23,
   "metadata": {},
   "outputs": [],
   "source": [
    "df['avgTransactionAmount'] = df.groupby('accountNumber')['transactionAmount'].transform('mean')\n",
    "\n",
    "df['transactionRatio'] = df['transactionAmount'] / (df['availableCash']+1)\n",
    "df['spendingStd'] = df.groupby('accountNumber')['transactionAmount'].transform('std')\n",
    "df['spendingStd'] = df['spendingStd'].fillna(0)\n",
    "df['diffFromAvg'] = df['transactionAmount'] - df['avgTransactionAmount']"
   ]
  },
  {
   "cell_type": "code",
   "execution_count": 54,
   "metadata": {},
   "outputs": [],
   "source": [
    "df['diffStd'] = df.apply(lambda row: row['diffFromAvg'] / row['spendingStd'] if row['spendingStd'] != 0 else 0, axis=1)"
   ]
  },
  {
   "cell_type": "code",
   "execution_count": 24,
   "metadata": {},
   "outputs": [],
   "source": [
    "def compute_country_risk_score(df):\n",
    "    \"\"\"\n",
    "    Computes a fraud risk score for each country based on historical fraud rates.\n",
    "    \n",
    "    Parameters:\n",
    "    df (pd.DataFrame): Transaction data with 'merchantCountry' and 'isFraud' columns.\n",
    "    \n",
    "    Returns:\n",
    "    pd.Series: A mapping of countries to their fraud risk score.\n",
    "    \"\"\"\n",
    "    country_fraud_rates = df.groupby('merchantCountry')['flag'].mean()\n",
    "    # Normalize fraud rates to get a risk score between 0 and 1\n",
    "    risk_score = (country_fraud_rates - country_fraud_rates.min()) / (country_fraud_rates.max() - country_fraud_rates.min())\n",
    "    return risk_score\n",
    "\n",
    "# Example usage\n",
    "\n",
    "df['countryRiskScore'] = df['merchantCountry'].map(compute_country_risk_score(df[df.year == 2017]))\n",
    "df['countryRiskScore'] = df['countryRiskScore'].fillna(1)\n"
   ]
  },
  {
   "cell_type": "code",
   "execution_count": 25,
   "metadata": {},
   "outputs": [],
   "source": [
    "df['transactionDate'] = df['transactionTime'].dt.date\n",
    "\n",
    "df['sameDayPayment'] = df.groupby(['accountNumber', 'merchantId', 'transactionDate', 'transactionAmount'])['eventId'].transform('count') > 1\n"
   ]
  },
  {
   "cell_type": "code",
   "execution_count": 26,
   "metadata": {},
   "outputs": [
    {
     "data": {
      "text/plain": [
       "sameDayPayment\n",
       "False    0.007078\n",
       "True     0.025601\n",
       "Name: flag, dtype: float64"
      ]
     },
     "execution_count": 26,
     "metadata": {},
     "output_type": "execute_result"
    }
   ],
   "source": [
    "prob = df.groupby('sameDayPayment')['flag'].mean()\n",
    "prob"
   ]
  },
  {
   "cell_type": "code",
   "execution_count": 27,
   "metadata": {},
   "outputs": [],
   "source": [
    "aux = df[df.flag == 1]"
   ]
  },
  {
   "cell_type": "code",
   "execution_count": 28,
   "metadata": {},
   "outputs": [
    {
     "data": {
      "text/plain": [
       "transactionAmount\n",
       "2.00      28\n",
       "0.00      22\n",
       "11.00     11\n",
       "9.00      11\n",
       "99.00     11\n",
       "          ..\n",
       "201.80     1\n",
       "153.89     1\n",
       "153.91     1\n",
       "206.66     1\n",
       "59.98      1\n",
       "Name: count, Length: 664, dtype: int64"
      ]
     },
     "execution_count": 28,
     "metadata": {},
     "output_type": "execute_result"
    }
   ],
   "source": [
    "aux['transactionAmount'].value_counts()"
   ]
  },
  {
   "cell_type": "code",
   "execution_count": 29,
   "metadata": {},
   "outputs": [
    {
     "data": {
      "text/plain": [
       "transactionAmount\n",
       "128.25     2\n",
       "0.94       1\n",
       "122.25     1\n",
       "128.30     1\n",
       "12.47      1\n",
       "122.21     1\n",
       "127.72     1\n",
       "122.22     1\n",
       "122.32     1\n",
       "0.00       1\n",
       "0.65       1\n",
       "0.56       1\n",
       "117.99     1\n",
       "384.06     1\n",
       "0.52       1\n",
       "3.72       1\n",
       "120.76     1\n",
       "4.11       1\n",
       "110.45     1\n",
       "130.74     1\n",
       "128.58     1\n",
       "125.00     1\n",
       "532.00     1\n",
       "17.21      1\n",
       "1658.20    1\n",
       "71.91      1\n",
       "330.29     1\n",
       "305.00     1\n",
       "301.09     1\n",
       "19.95      1\n",
       "206.66     1\n",
       "123.25     1\n",
       "19.00      1\n",
       "9.00       1\n",
       "2.00       1\n",
       "0.83       1\n",
       "48.00      1\n",
       "28.00      1\n",
       "Name: count, dtype: int64"
      ]
     },
     "execution_count": 29,
     "metadata": {},
     "output_type": "execute_result"
    }
   ],
   "source": [
    "aux[aux.year==2018]['transactionAmount'].value_counts()"
   ]
  },
  {
   "cell_type": "code",
   "execution_count": 30,
   "metadata": {},
   "outputs": [
    {
     "data": {
      "text/html": [
       "<div>\n",
       "<style scoped>\n",
       "    .dataframe tbody tr th:only-of-type {\n",
       "        vertical-align: middle;\n",
       "    }\n",
       "\n",
       "    .dataframe tbody tr th {\n",
       "        vertical-align: top;\n",
       "    }\n",
       "\n",
       "    .dataframe thead th {\n",
       "        text-align: right;\n",
       "    }\n",
       "</style>\n",
       "<table border=\"1\" class=\"dataframe\">\n",
       "  <thead>\n",
       "    <tr style=\"text-align: right;\">\n",
       "      <th></th>\n",
       "      <th>index</th>\n",
       "      <th>transactionTime</th>\n",
       "      <th>eventId</th>\n",
       "      <th>accountNumber</th>\n",
       "      <th>merchantId</th>\n",
       "      <th>mcc</th>\n",
       "      <th>merchantCountry</th>\n",
       "      <th>merchantZip</th>\n",
       "      <th>posEntryMode</th>\n",
       "      <th>transactionAmount</th>\n",
       "      <th>...</th>\n",
       "      <th>merchantZipLetters</th>\n",
       "      <th>zipConsistency</th>\n",
       "      <th>areaConsistency</th>\n",
       "      <th>avgTransactionAmount</th>\n",
       "      <th>transactionRatio</th>\n",
       "      <th>spendingStd</th>\n",
       "      <th>diffFromAvg</th>\n",
       "      <th>countryRiskScore</th>\n",
       "      <th>transactionDate</th>\n",
       "      <th>sameDayPayment</th>\n",
       "    </tr>\n",
       "  </thead>\n",
       "  <tbody>\n",
       "    <tr>\n",
       "      <th>36392</th>\n",
       "      <td>114910</td>\n",
       "      <td>2018-01-18 23:42:34+00:00</td>\n",
       "      <td>50000167A1</td>\n",
       "      <td>4547ba27</td>\n",
       "      <td>e57467</td>\n",
       "      <td>4121</td>\n",
       "      <td>826</td>\n",
       "      <td>EC3V</td>\n",
       "      <td>1</td>\n",
       "      <td>128.25</td>\n",
       "      <td>...</td>\n",
       "      <td>EC</td>\n",
       "      <td>1</td>\n",
       "      <td>1</td>\n",
       "      <td>53.665377</td>\n",
       "      <td>0.012213</td>\n",
       "      <td>170.779825</td>\n",
       "      <td>74.584623</td>\n",
       "      <td>0.003262</td>\n",
       "      <td>2018-01-18</td>\n",
       "      <td>True</td>\n",
       "    </tr>\n",
       "    <tr>\n",
       "      <th>36394</th>\n",
       "      <td>114913</td>\n",
       "      <td>2018-01-18 23:50:24+00:00</td>\n",
       "      <td>50011639A1</td>\n",
       "      <td>4547ba27</td>\n",
       "      <td>e57467</td>\n",
       "      <td>4121</td>\n",
       "      <td>826</td>\n",
       "      <td>EC3V</td>\n",
       "      <td>1</td>\n",
       "      <td>128.25</td>\n",
       "      <td>...</td>\n",
       "      <td>EC</td>\n",
       "      <td>1</td>\n",
       "      <td>1</td>\n",
       "      <td>53.665377</td>\n",
       "      <td>0.012213</td>\n",
       "      <td>170.779825</td>\n",
       "      <td>74.584623</td>\n",
       "      <td>0.003262</td>\n",
       "      <td>2018-01-18</td>\n",
       "      <td>True</td>\n",
       "    </tr>\n",
       "  </tbody>\n",
       "</table>\n",
       "<p>2 rows × 44 columns</p>\n",
       "</div>"
      ],
      "text/plain": [
       "        index           transactionTime     eventId accountNumber merchantId  \\\n",
       "36392  114910 2018-01-18 23:42:34+00:00  50000167A1      4547ba27     e57467   \n",
       "36394  114913 2018-01-18 23:50:24+00:00  50011639A1      4547ba27     e57467   \n",
       "\n",
       "        mcc  merchantCountry merchantZip  posEntryMode  transactionAmount  \\\n",
       "36392  4121              826        EC3V             1             128.25   \n",
       "36394  4121              826        EC3V             1             128.25   \n",
       "\n",
       "       ...  merchantZipLetters zipConsistency  areaConsistency  \\\n",
       "36392  ...                  EC              1                1   \n",
       "36394  ...                  EC              1                1   \n",
       "\n",
       "       avgTransactionAmount  transactionRatio  spendingStd  diffFromAvg  \\\n",
       "36392             53.665377          0.012213   170.779825    74.584623   \n",
       "36394             53.665377          0.012213   170.779825    74.584623   \n",
       "\n",
       "       countryRiskScore  transactionDate  sameDayPayment  \n",
       "36392          0.003262       2018-01-18            True  \n",
       "36394          0.003262       2018-01-18            True  \n",
       "\n",
       "[2 rows x 44 columns]"
      ]
     },
     "execution_count": 30,
     "metadata": {},
     "output_type": "execute_result"
    }
   ],
   "source": [
    "aux[aux['transactionAmount'] == 128.25]"
   ]
  },
  {
   "cell_type": "code",
   "execution_count": 31,
   "metadata": {},
   "outputs": [
    {
     "data": {
      "text/plain": [
       "posEntryMode\n",
       "1     22\n",
       "81    12\n",
       "90     4\n",
       "5      1\n",
       "Name: count, dtype: int64"
      ]
     },
     "execution_count": 31,
     "metadata": {},
     "output_type": "execute_result"
    }
   ],
   "source": [
    "aux[aux.year==2018]['posEntryMode'].value_counts()"
   ]
  },
  {
   "cell_type": "code",
   "execution_count": 32,
   "metadata": {},
   "outputs": [
    {
     "data": {
      "text/plain": [
       "merchantId\n",
       "96878e    3294\n",
       "243074    2281\n",
       "7f7cdb    1784\n",
       "4fd0ff    1554\n",
       "7c3a49    1143\n",
       "          ... \n",
       "c7f1ab       1\n",
       "cc5820       1\n",
       "e9cc63       1\n",
       "370f31       1\n",
       "3f66fc       1\n",
       "Name: count, Length: 33327, dtype: int64"
      ]
     },
     "execution_count": 32,
     "metadata": {},
     "output_type": "execute_result"
    }
   ],
   "source": [
    "df['merchantId'].value_counts()"
   ]
  },
  {
   "cell_type": "code",
   "execution_count": 33,
   "metadata": {},
   "outputs": [
    {
     "name": "stdout",
     "output_type": "stream",
     "text": [
      "100.2\n"
     ]
    }
   ],
   "source": [
    "print(df['transactionAmount'].quantile(0.90))"
   ]
  },
  {
   "cell_type": "code",
   "execution_count": 34,
   "metadata": {},
   "outputs": [
    {
     "name": "stdout",
     "output_type": "stream",
     "text": [
      "RandomForest Model Performance:\n",
      "              precision    recall  f1-score   support\n",
      "\n",
      "           0       1.00      0.95      0.97      8492\n",
      "           1       0.05      0.51      0.09        39\n",
      "\n",
      "    accuracy                           0.95      8531\n",
      "   macro avg       0.52      0.73      0.53      8531\n",
      "weighted avg       0.99      0.95      0.97      8531\n",
      "\n",
      "Accuracy: 0.9500644707537217\n",
      "----------------------\n",
      "XGBoost Model Performance:\n",
      "              precision    recall  f1-score   support\n",
      "\n",
      "           0       1.00      0.75      0.86      8492\n",
      "           1       0.01      0.82      0.03        39\n",
      "\n",
      "    accuracy                           0.75      8531\n",
      "   macro avg       0.51      0.78      0.44      8531\n",
      "weighted avg       0.99      0.75      0.85      8531\n",
      "\n",
      "Accuracy: 0.7492673777986169\n",
      "----------------------\n"
     ]
    }
   ],
   "source": [
    "# Feature Engineering\n",
    "df['isHighAmount'] = df['transactionAmount'] > df['transactionAmount'].quantile(0.90)\n",
    "df['isHighAmount2'] = df['transactionAmount'] > df['transactionAmount'].quantile(0.95)\n",
    "df['isHighAmount3'] = df['transactionAmount'] > df['transactionAmount'].quantile(0.99)\n",
    "\n",
    "df['mcc_group'] = df['mcc'].astype(str).str[:2].astype(int)  # Grouping MCC by first 2 digits\n",
    "#df['hourlyRisk'] = df.groupby('hour')['isHighAmount'].transform('mean')\n",
    "\n",
    "\n",
    "# Encoding categorical variables\n",
    "le = LabelEncoder()\n",
    "#df['merchantId'] = le.fit_transform(df['merchantId'])\n",
    "#df['mcc_group'] = le.fit_transform(df['mcc_group'])\n",
    "#df['merchantCountry'] = le.fit_transform(df['merchantCountry'])\n",
    "df2 = pd.get_dummies(df, columns=['posEntryMode', 'merchantCountry', 'merchantZipLetters'], dtype='int')\n",
    "drop_columns = ['index', 'merchantId', 'transactionTime', 'transactionDate', 'accountNumber', 'merchantZip', 'eventId', 'mcc', 'flag', 'reportedTime', 'daysDetection', 'ranking', 'index']\n",
    "#df = df.drop(columns=drop_columns)\n",
    "\n",
    "\n",
    "# Splitting dataset\n",
    "X_train = df2[df2.year == 2017].drop(columns=drop_columns, errors = 'ignore')\n",
    "X_test = df2[df2.year == 2018].drop(columns=drop_columns, errors = 'ignore')\n",
    "y_train = df2[df2.year == 2017]['flag']\n",
    "y_test = df2[df2.year == 2018]['flag']\n",
    "\n",
    "# Scaling numeric features\n",
    "scaler = StandardScaler()\n",
    "X_train[['transactionAmount', 'availableCash']] = scaler.fit_transform(X_train[['transactionAmount', 'availableCash']])\n",
    "X_test[['transactionAmount', 'availableCash']] = scaler.transform(X_test[['transactionAmount', 'availableCash']])\n",
    "\n",
    "# Model training and evaluation\n",
    "models = {\n",
    "    'RandomForest': RandomForestClassifier(n_estimators=300, class_weight='balanced_subsample', max_depth=10, random_state=42),\n",
    "    'XGBoost': XGBClassifier(eval_metric='logloss', scale_pos_weight=y_train.value_counts()[0] / y_train.value_counts()[1], max_depth=10, learning_rate=0.1, n_estimators=300, random_state=42)\n",
    "}\n",
    "\n",
    "for name, model in models.items():\n",
    "    model.fit(X_train, y_train)\n",
    "    y_pred = model.predict(X_test)\n",
    "    print(f\"{name} Model Performance:\")\n",
    "    print(classification_report(y_test, y_pred))\n",
    "    print(\"Accuracy:\", accuracy_score(y_test, y_pred))\n",
    "    print(\"----------------------\")\n"
   ]
  },
  {
   "cell_type": "code",
   "execution_count": 35,
   "metadata": {},
   "outputs": [
    {
     "name": "stdout",
     "output_type": "stream",
     "text": [
      "Logistic Regression: Model Performance:\n",
      "              precision    recall  f1-score   support\n",
      "\n",
      "           0       1.00      0.73      0.84      8492\n",
      "           1       0.02      0.92      0.03        39\n",
      "\n",
      "    accuracy                           0.73      8531\n",
      "   macro avg       0.51      0.83      0.44      8531\n",
      "weighted avg       1.00      0.73      0.84      8531\n",
      "\n",
      "Accuracy: 0.7280506388465596\n",
      "----------------------\n",
      "                    Feature  Coefficient  Importance\n",
      "18        merchantRiskScore    31.398857   31.398857\n",
      "86      merchantCountry_442     4.081002    4.081002\n",
      "61      merchantCountry_196    -3.780519    3.780519\n",
      "80      merchantCountry_380     3.628521    3.628521\n",
      "114     merchantCountry_724    -3.308576    3.308576\n",
      "..                      ...          ...         ...\n",
      "109     merchantCountry_662    -0.000029    0.000029\n",
      "0         transactionAmount     0.000018    0.000018\n",
      "59      merchantCountry_158     0.000000    0.000000\n",
      "223   merchantZipLetters_ON     0.000000    0.000000\n",
      "236  merchantZipLetters_RHI     0.000000    0.000000\n",
      "\n",
      "[344 rows x 3 columns]\n"
     ]
    }
   ],
   "source": [
    "model = LogisticRegression(solver='liblinear', class_weight='balanced')\n",
    "model.fit(X_train, y_train)\n",
    "y_pred = model.predict(X_test)\n",
    "print(f\"Logistic Regression: Model Performance:\")\n",
    "print(classification_report(y_test, y_pred))\n",
    "print(\"Accuracy:\", accuracy_score(y_test, y_pred))\n",
    "print(\"----------------------\")\n",
    "\n",
    "# Get the coefficients of the features\n",
    "coefficients = model.coef_[0]  # Coefficients of features for binary classification\n",
    "\n",
    "# Create a DataFrame to view the feature importance\n",
    "feature_importance = pd.DataFrame({\n",
    "    'Feature': X_train.columns,\n",
    "    'Coefficient': coefficients\n",
    "})\n",
    "\n",
    "# Sort by the absolute value of the coefficients (larger values indicate higher importance)\n",
    "feature_importance['Importance'] = feature_importance['Coefficient'].abs()\n",
    "feature_importance = feature_importance.sort_values(by='Importance', ascending=False)\n",
    "print(feature_importance)"
   ]
  },
  {
   "cell_type": "code",
   "execution_count": 36,
   "metadata": {},
   "outputs": [
    {
     "data": {
      "text/html": [
       "<div>\n",
       "<style scoped>\n",
       "    .dataframe tbody tr th:only-of-type {\n",
       "        vertical-align: middle;\n",
       "    }\n",
       "\n",
       "    .dataframe tbody tr th {\n",
       "        vertical-align: top;\n",
       "    }\n",
       "\n",
       "    .dataframe thead th {\n",
       "        text-align: right;\n",
       "    }\n",
       "</style>\n",
       "<table border=\"1\" class=\"dataframe\">\n",
       "  <thead>\n",
       "    <tr style=\"text-align: right;\">\n",
       "      <th></th>\n",
       "      <th>transactionAmount</th>\n",
       "      <th>availableCash</th>\n",
       "      <th>hour</th>\n",
       "      <th>month</th>\n",
       "      <th>year</th>\n",
       "      <th>dayType</th>\n",
       "      <th>isHoliday</th>\n",
       "      <th>quartileNumberTransactions</th>\n",
       "      <th>transactionAmountEnds00</th>\n",
       "      <th>transactionAmountEndsX0</th>\n",
       "      <th>...</th>\n",
       "      <th>merchantZipLetters_tn</th>\n",
       "      <th>merchantZipLetters_tr</th>\n",
       "      <th>merchantZipLetters_ub</th>\n",
       "      <th>merchantZipLetters_wa</th>\n",
       "      <th>merchantZipLetters_wc</th>\n",
       "      <th>merchantZipLetters_wd</th>\n",
       "      <th>merchantZipLetters_wf</th>\n",
       "      <th>merchantZipLetters_wn</th>\n",
       "      <th>merchantZipLetters_wv</th>\n",
       "      <th>merchantZipLetters_yo</th>\n",
       "    </tr>\n",
       "  </thead>\n",
       "  <tbody>\n",
       "    <tr>\n",
       "      <th>241</th>\n",
       "      <td>-0.005643</td>\n",
       "      <td>0.25391</td>\n",
       "      <td>1.027447</td>\n",
       "      <td>1</td>\n",
       "      <td>2018</td>\n",
       "      <td>0</td>\n",
       "      <td>True</td>\n",
       "      <td>3</td>\n",
       "      <td>False</td>\n",
       "      <td>False</td>\n",
       "      <td>...</td>\n",
       "      <td>0</td>\n",
       "      <td>0</td>\n",
       "      <td>0</td>\n",
       "      <td>0</td>\n",
       "      <td>0</td>\n",
       "      <td>0</td>\n",
       "      <td>0</td>\n",
       "      <td>0</td>\n",
       "      <td>0</td>\n",
       "      <td>0</td>\n",
       "    </tr>\n",
       "    <tr>\n",
       "      <th>242</th>\n",
       "      <td>-0.190212</td>\n",
       "      <td>0.25391</td>\n",
       "      <td>1.027447</td>\n",
       "      <td>1</td>\n",
       "      <td>2018</td>\n",
       "      <td>0</td>\n",
       "      <td>True</td>\n",
       "      <td>3</td>\n",
       "      <td>False</td>\n",
       "      <td>False</td>\n",
       "      <td>...</td>\n",
       "      <td>0</td>\n",
       "      <td>0</td>\n",
       "      <td>0</td>\n",
       "      <td>0</td>\n",
       "      <td>0</td>\n",
       "      <td>0</td>\n",
       "      <td>0</td>\n",
       "      <td>0</td>\n",
       "      <td>0</td>\n",
       "      <td>0</td>\n",
       "    </tr>\n",
       "    <tr>\n",
       "      <th>243</th>\n",
       "      <td>0.015967</td>\n",
       "      <td>0.25391</td>\n",
       "      <td>1.174607</td>\n",
       "      <td>1</td>\n",
       "      <td>2018</td>\n",
       "      <td>0</td>\n",
       "      <td>True</td>\n",
       "      <td>3</td>\n",
       "      <td>False</td>\n",
       "      <td>False</td>\n",
       "      <td>...</td>\n",
       "      <td>0</td>\n",
       "      <td>0</td>\n",
       "      <td>0</td>\n",
       "      <td>0</td>\n",
       "      <td>0</td>\n",
       "      <td>0</td>\n",
       "      <td>0</td>\n",
       "      <td>0</td>\n",
       "      <td>0</td>\n",
       "      <td>0</td>\n",
       "    </tr>\n",
       "    <tr>\n",
       "      <th>244</th>\n",
       "      <td>-0.097552</td>\n",
       "      <td>0.25391</td>\n",
       "      <td>-0.738480</td>\n",
       "      <td>1</td>\n",
       "      <td>2018</td>\n",
       "      <td>5</td>\n",
       "      <td>False</td>\n",
       "      <td>3</td>\n",
       "      <td>False</td>\n",
       "      <td>False</td>\n",
       "      <td>...</td>\n",
       "      <td>0</td>\n",
       "      <td>0</td>\n",
       "      <td>0</td>\n",
       "      <td>0</td>\n",
       "      <td>0</td>\n",
       "      <td>0</td>\n",
       "      <td>0</td>\n",
       "      <td>0</td>\n",
       "      <td>0</td>\n",
       "      <td>0</td>\n",
       "    </tr>\n",
       "    <tr>\n",
       "      <th>245</th>\n",
       "      <td>-0.077605</td>\n",
       "      <td>0.25391</td>\n",
       "      <td>-1.179962</td>\n",
       "      <td>1</td>\n",
       "      <td>2018</td>\n",
       "      <td>0</td>\n",
       "      <td>False</td>\n",
       "      <td>3</td>\n",
       "      <td>False</td>\n",
       "      <td>False</td>\n",
       "      <td>...</td>\n",
       "      <td>0</td>\n",
       "      <td>0</td>\n",
       "      <td>0</td>\n",
       "      <td>0</td>\n",
       "      <td>0</td>\n",
       "      <td>0</td>\n",
       "      <td>0</td>\n",
       "      <td>0</td>\n",
       "      <td>0</td>\n",
       "      <td>0</td>\n",
       "    </tr>\n",
       "    <tr>\n",
       "      <th>...</th>\n",
       "      <td>...</td>\n",
       "      <td>...</td>\n",
       "      <td>...</td>\n",
       "      <td>...</td>\n",
       "      <td>...</td>\n",
       "      <td>...</td>\n",
       "      <td>...</td>\n",
       "      <td>...</td>\n",
       "      <td>...</td>\n",
       "      <td>...</td>\n",
       "      <td>...</td>\n",
       "      <td>...</td>\n",
       "      <td>...</td>\n",
       "      <td>...</td>\n",
       "      <td>...</td>\n",
       "      <td>...</td>\n",
       "      <td>...</td>\n",
       "      <td>...</td>\n",
       "      <td>...</td>\n",
       "      <td>...</td>\n",
       "      <td>...</td>\n",
       "    </tr>\n",
       "    <tr>\n",
       "      <th>118269</th>\n",
       "      <td>-0.025805</td>\n",
       "      <td>0.54721</td>\n",
       "      <td>0.291644</td>\n",
       "      <td>1</td>\n",
       "      <td>2018</td>\n",
       "      <td>0</td>\n",
       "      <td>False</td>\n",
       "      <td>2</td>\n",
       "      <td>False</td>\n",
       "      <td>False</td>\n",
       "      <td>...</td>\n",
       "      <td>0</td>\n",
       "      <td>0</td>\n",
       "      <td>0</td>\n",
       "      <td>0</td>\n",
       "      <td>0</td>\n",
       "      <td>0</td>\n",
       "      <td>0</td>\n",
       "      <td>0</td>\n",
       "      <td>0</td>\n",
       "      <td>0</td>\n",
       "    </tr>\n",
       "    <tr>\n",
       "      <th>118617</th>\n",
       "      <td>-0.283516</td>\n",
       "      <td>-0.33269</td>\n",
       "      <td>-0.002677</td>\n",
       "      <td>1</td>\n",
       "      <td>2018</td>\n",
       "      <td>3</td>\n",
       "      <td>False</td>\n",
       "      <td>3</td>\n",
       "      <td>False</td>\n",
       "      <td>False</td>\n",
       "      <td>...</td>\n",
       "      <td>0</td>\n",
       "      <td>0</td>\n",
       "      <td>0</td>\n",
       "      <td>0</td>\n",
       "      <td>0</td>\n",
       "      <td>0</td>\n",
       "      <td>0</td>\n",
       "      <td>0</td>\n",
       "      <td>0</td>\n",
       "      <td>0</td>\n",
       "    </tr>\n",
       "    <tr>\n",
       "      <th>118618</th>\n",
       "      <td>-0.269038</td>\n",
       "      <td>-0.33269</td>\n",
       "      <td>-1.621444</td>\n",
       "      <td>1</td>\n",
       "      <td>2018</td>\n",
       "      <td>1</td>\n",
       "      <td>False</td>\n",
       "      <td>3</td>\n",
       "      <td>False</td>\n",
       "      <td>False</td>\n",
       "      <td>...</td>\n",
       "      <td>0</td>\n",
       "      <td>0</td>\n",
       "      <td>0</td>\n",
       "      <td>0</td>\n",
       "      <td>0</td>\n",
       "      <td>0</td>\n",
       "      <td>0</td>\n",
       "      <td>0</td>\n",
       "      <td>0</td>\n",
       "      <td>0</td>\n",
       "    </tr>\n",
       "    <tr>\n",
       "      <th>118619</th>\n",
       "      <td>-0.067363</td>\n",
       "      <td>-0.33269</td>\n",
       "      <td>-0.149838</td>\n",
       "      <td>1</td>\n",
       "      <td>2018</td>\n",
       "      <td>3</td>\n",
       "      <td>False</td>\n",
       "      <td>3</td>\n",
       "      <td>False</td>\n",
       "      <td>True</td>\n",
       "      <td>...</td>\n",
       "      <td>0</td>\n",
       "      <td>0</td>\n",
       "      <td>0</td>\n",
       "      <td>0</td>\n",
       "      <td>0</td>\n",
       "      <td>0</td>\n",
       "      <td>0</td>\n",
       "      <td>0</td>\n",
       "      <td>0</td>\n",
       "      <td>0</td>\n",
       "    </tr>\n",
       "    <tr>\n",
       "      <th>118620</th>\n",
       "      <td>-0.256276</td>\n",
       "      <td>-0.33269</td>\n",
       "      <td>-1.032802</td>\n",
       "      <td>1</td>\n",
       "      <td>2018</td>\n",
       "      <td>2</td>\n",
       "      <td>False</td>\n",
       "      <td>3</td>\n",
       "      <td>False</td>\n",
       "      <td>False</td>\n",
       "      <td>...</td>\n",
       "      <td>0</td>\n",
       "      <td>0</td>\n",
       "      <td>0</td>\n",
       "      <td>0</td>\n",
       "      <td>0</td>\n",
       "      <td>0</td>\n",
       "      <td>0</td>\n",
       "      <td>0</td>\n",
       "      <td>0</td>\n",
       "      <td>0</td>\n",
       "    </tr>\n",
       "  </tbody>\n",
       "</table>\n",
       "<p>8531 rows × 344 columns</p>\n",
       "</div>"
      ],
      "text/plain": [
       "        transactionAmount  availableCash      hour  month  year  dayType  \\\n",
       "241             -0.005643        0.25391  1.027447      1  2018        0   \n",
       "242             -0.190212        0.25391  1.027447      1  2018        0   \n",
       "243              0.015967        0.25391  1.174607      1  2018        0   \n",
       "244             -0.097552        0.25391 -0.738480      1  2018        5   \n",
       "245             -0.077605        0.25391 -1.179962      1  2018        0   \n",
       "...                   ...            ...       ...    ...   ...      ...   \n",
       "118269          -0.025805        0.54721  0.291644      1  2018        0   \n",
       "118617          -0.283516       -0.33269 -0.002677      1  2018        3   \n",
       "118618          -0.269038       -0.33269 -1.621444      1  2018        1   \n",
       "118619          -0.067363       -0.33269 -0.149838      1  2018        3   \n",
       "118620          -0.256276       -0.33269 -1.032802      1  2018        2   \n",
       "\n",
       "        isHoliday  quartileNumberTransactions  transactionAmountEnds00  \\\n",
       "241          True                           3                    False   \n",
       "242          True                           3                    False   \n",
       "243          True                           3                    False   \n",
       "244         False                           3                    False   \n",
       "245         False                           3                    False   \n",
       "...           ...                         ...                      ...   \n",
       "118269      False                           2                    False   \n",
       "118617      False                           3                    False   \n",
       "118618      False                           3                    False   \n",
       "118619      False                           3                    False   \n",
       "118620      False                           3                    False   \n",
       "\n",
       "        transactionAmountEndsX0  ...  merchantZipLetters_tn  \\\n",
       "241                       False  ...                      0   \n",
       "242                       False  ...                      0   \n",
       "243                       False  ...                      0   \n",
       "244                       False  ...                      0   \n",
       "245                       False  ...                      0   \n",
       "...                         ...  ...                    ...   \n",
       "118269                    False  ...                      0   \n",
       "118617                    False  ...                      0   \n",
       "118618                    False  ...                      0   \n",
       "118619                     True  ...                      0   \n",
       "118620                    False  ...                      0   \n",
       "\n",
       "        merchantZipLetters_tr  merchantZipLetters_ub  merchantZipLetters_wa  \\\n",
       "241                         0                      0                      0   \n",
       "242                         0                      0                      0   \n",
       "243                         0                      0                      0   \n",
       "244                         0                      0                      0   \n",
       "245                         0                      0                      0   \n",
       "...                       ...                    ...                    ...   \n",
       "118269                      0                      0                      0   \n",
       "118617                      0                      0                      0   \n",
       "118618                      0                      0                      0   \n",
       "118619                      0                      0                      0   \n",
       "118620                      0                      0                      0   \n",
       "\n",
       "        merchantZipLetters_wc  merchantZipLetters_wd  merchantZipLetters_wf  \\\n",
       "241                         0                      0                      0   \n",
       "242                         0                      0                      0   \n",
       "243                         0                      0                      0   \n",
       "244                         0                      0                      0   \n",
       "245                         0                      0                      0   \n",
       "...                       ...                    ...                    ...   \n",
       "118269                      0                      0                      0   \n",
       "118617                      0                      0                      0   \n",
       "118618                      0                      0                      0   \n",
       "118619                      0                      0                      0   \n",
       "118620                      0                      0                      0   \n",
       "\n",
       "        merchantZipLetters_wn  merchantZipLetters_wv  merchantZipLetters_yo  \n",
       "241                         0                      0                      0  \n",
       "242                         0                      0                      0  \n",
       "243                         0                      0                      0  \n",
       "244                         0                      0                      0  \n",
       "245                         0                      0                      0  \n",
       "...                       ...                    ...                    ...  \n",
       "118269                      0                      0                      0  \n",
       "118617                      0                      0                      0  \n",
       "118618                      0                      0                      0  \n",
       "118619                      0                      0                      0  \n",
       "118620                      0                      0                      0  \n",
       "\n",
       "[8531 rows x 344 columns]"
      ]
     },
     "execution_count": 36,
     "metadata": {},
     "output_type": "execute_result"
    }
   ],
   "source": [
    "X_test"
   ]
  },
  {
   "cell_type": "code",
   "execution_count": 37,
   "metadata": {},
   "outputs": [
    {
     "data": {
      "text/plain": [
       "transactionAmount        float64\n",
       "availableCash            float64\n",
       "hour                     float64\n",
       "month                      int32\n",
       "year                       int32\n",
       "                          ...   \n",
       "merchantZipLetters_wd      int64\n",
       "merchantZipLetters_wf      int64\n",
       "merchantZipLetters_wn      int64\n",
       "merchantZipLetters_wv      int64\n",
       "merchantZipLetters_yo      int64\n",
       "Length: 344, dtype: object"
      ]
     },
     "execution_count": 37,
     "metadata": {},
     "output_type": "execute_result"
    }
   ],
   "source": [
    "X_train.dtypes"
   ]
  },
  {
   "cell_type": "code",
   "execution_count": 38,
   "metadata": {},
   "outputs": [],
   "source": [
    "X_train.to_csv('train.csv')"
   ]
  },
  {
   "cell_type": "code",
   "execution_count": 39,
   "metadata": {},
   "outputs": [
    {
     "data": {
      "text/plain": [
       "flag\n",
       "0    109254\n",
       "1       836\n",
       "Name: count, dtype: int64"
      ]
     },
     "execution_count": 39,
     "metadata": {},
     "output_type": "execute_result"
    }
   ],
   "source": [
    "y_train.value_counts()"
   ]
  },
  {
   "cell_type": "code",
   "execution_count": 40,
   "metadata": {},
   "outputs": [
    {
     "data": {
      "text/plain": [
       "flag\n",
       "0    8492\n",
       "1      39\n",
       "Name: count, dtype: int64"
      ]
     },
     "execution_count": 40,
     "metadata": {},
     "output_type": "execute_result"
    }
   ],
   "source": [
    "y_test.value_counts()"
   ]
  },
  {
   "cell_type": "code",
   "execution_count": 41,
   "metadata": {},
   "outputs": [
    {
     "data": {
      "text/plain": [
       "transactionAmount        0\n",
       "availableCash            0\n",
       "hour                     0\n",
       "month                    0\n",
       "year                     0\n",
       "                        ..\n",
       "merchantZipLetters_wd    0\n",
       "merchantZipLetters_wf    0\n",
       "merchantZipLetters_wn    0\n",
       "merchantZipLetters_wv    0\n",
       "merchantZipLetters_yo    0\n",
       "Length: 344, dtype: int64"
      ]
     },
     "execution_count": 41,
     "metadata": {},
     "output_type": "execute_result"
    }
   ],
   "source": [
    "X_train.isna().sum()"
   ]
  },
  {
   "cell_type": "code",
   "execution_count": 42,
   "metadata": {},
   "outputs": [
    {
     "data": {
      "text/plain": [
       "transactionAmount        0\n",
       "availableCash            0\n",
       "hour                     0\n",
       "month                    0\n",
       "year                     0\n",
       "                        ..\n",
       "merchantZipLetters_wd    0\n",
       "merchantZipLetters_wf    0\n",
       "merchantZipLetters_wn    0\n",
       "merchantZipLetters_wv    0\n",
       "merchantZipLetters_yo    0\n",
       "Length: 344, dtype: int64"
      ]
     },
     "execution_count": 42,
     "metadata": {},
     "output_type": "execute_result"
    }
   ],
   "source": [
    "X_test.isna().sum()"
   ]
  },
  {
   "cell_type": "code",
   "execution_count": 43,
   "metadata": {},
   "outputs": [
    {
     "name": "stdout",
     "output_type": "stream",
     "text": [
      "SVM Model Accuracy:  0.9954284374633688\n",
      "              precision    recall  f1-score   support\n",
      "\n",
      "           0       1.00      1.00      1.00      8492\n",
      "           1       0.00      0.00      0.00        39\n",
      "\n",
      "    accuracy                           1.00      8531\n",
      "   macro avg       0.50      0.50      0.50      8531\n",
      "weighted avg       0.99      1.00      0.99      8531\n",
      "\n"
     ]
    },
    {
     "name": "stderr",
     "output_type": "stream",
     "text": [
      "/Users/jesusocariz/Github/.venv/lib/python3.9/site-packages/sklearn/metrics/_classification.py:1565: UndefinedMetricWarning: Precision is ill-defined and being set to 0.0 in labels with no predicted samples. Use `zero_division` parameter to control this behavior.\n",
      "  _warn_prf(average, modifier, f\"{metric.capitalize()} is\", len(result))\n",
      "/Users/jesusocariz/Github/.venv/lib/python3.9/site-packages/sklearn/metrics/_classification.py:1565: UndefinedMetricWarning: Precision is ill-defined and being set to 0.0 in labels with no predicted samples. Use `zero_division` parameter to control this behavior.\n",
      "  _warn_prf(average, modifier, f\"{metric.capitalize()} is\", len(result))\n",
      "/Users/jesusocariz/Github/.venv/lib/python3.9/site-packages/sklearn/metrics/_classification.py:1565: UndefinedMetricWarning: Precision is ill-defined and being set to 0.0 in labels with no predicted samples. Use `zero_division` parameter to control this behavior.\n",
      "  _warn_prf(average, modifier, f\"{metric.capitalize()} is\", len(result))\n"
     ]
    }
   ],
   "source": [
    "from sklearn.svm import SVC\n",
    "from sklearn.metrics import classification_report, accuracy_score\n",
    "\n",
    "# Initialize the SVM model with a radial basis function (RBF) kernel\n",
    "svm_model = SVC(kernel='rbf', C=1, gamma='scale', random_state=42)\n",
    "\n",
    "# Train the model\n",
    "svm_model.fit(X_train, y_train)\n",
    "\n",
    "# Predictions\n",
    "svm_predictions = svm_model.predict(X_test)\n",
    "\n",
    "# Evaluate the model\n",
    "print(\"SVM Model Accuracy: \", accuracy_score(y_test, svm_predictions))\n",
    "print(classification_report(y_test, svm_predictions))\n"
   ]
  },
  {
   "cell_type": "code",
   "execution_count": 44,
   "metadata": {},
   "outputs": [
    {
     "name": "stderr",
     "output_type": "stream",
     "text": [
      "/Users/jesusocariz/Github/.venv/lib/python3.9/site-packages/urllib3/__init__.py:35: NotOpenSSLWarning: urllib3 v2 only supports OpenSSL 1.1.1+, currently the 'ssl' module is compiled with 'LibreSSL 2.8.3'. See: https://github.com/urllib3/urllib3/issues/3020\n",
      "  warnings.warn(\n"
     ]
    },
    {
     "name": "stdout",
     "output_type": "stream",
     "text": [
      "Epoch 1/10\n"
     ]
    },
    {
     "name": "stderr",
     "output_type": "stream",
     "text": [
      "/Users/jesusocariz/Github/.venv/lib/python3.9/site-packages/keras/src/layers/core/dense.py:87: UserWarning: Do not pass an `input_shape`/`input_dim` argument to a layer. When using Sequential models, prefer using an `Input(shape)` object as the first layer in the model instead.\n",
      "  super().__init__(activity_regularizer=activity_regularizer, **kwargs)\n"
     ]
    },
    {
     "name": "stdout",
     "output_type": "stream",
     "text": [
      "\u001b[1m3441/3441\u001b[0m \u001b[32m━━━━━━━━━━━━━━━━━━━━\u001b[0m\u001b[37m\u001b[0m \u001b[1m2s\u001b[0m 522us/step - categorical_accuracy: 1.0000 - loss: 0.0445 - val_categorical_accuracy: 1.0000 - val_loss: 0.6918\n",
      "Epoch 2/10\n",
      "\u001b[1m3441/3441\u001b[0m \u001b[32m━━━━━━━━━━━━━━━━━━━━\u001b[0m\u001b[37m\u001b[0m \u001b[1m2s\u001b[0m 496us/step - categorical_accuracy: 1.0000 - loss: 0.0132 - val_categorical_accuracy: 1.0000 - val_loss: 0.6431\n",
      "Epoch 3/10\n",
      "\u001b[1m3441/3441\u001b[0m \u001b[32m━━━━━━━━━━━━━━━━━━━━\u001b[0m\u001b[37m\u001b[0m \u001b[1m2s\u001b[0m 507us/step - categorical_accuracy: 1.0000 - loss: 0.0107 - val_categorical_accuracy: 1.0000 - val_loss: 0.7632\n",
      "Epoch 4/10\n",
      "\u001b[1m3441/3441\u001b[0m \u001b[32m━━━━━━━━━━━━━━━━━━━━\u001b[0m\u001b[37m\u001b[0m \u001b[1m2s\u001b[0m 491us/step - categorical_accuracy: 1.0000 - loss: 0.0096 - val_categorical_accuracy: 1.0000 - val_loss: 1.0881\n",
      "Epoch 5/10\n",
      "\u001b[1m3441/3441\u001b[0m \u001b[32m━━━━━━━━━━━━━━━━━━━━\u001b[0m\u001b[37m\u001b[0m \u001b[1m2s\u001b[0m 495us/step - categorical_accuracy: 1.0000 - loss: 0.0088 - val_categorical_accuracy: 1.0000 - val_loss: 0.6407\n",
      "Epoch 6/10\n",
      "\u001b[1m3441/3441\u001b[0m \u001b[32m━━━━━━━━━━━━━━━━━━━━\u001b[0m\u001b[37m\u001b[0m \u001b[1m2s\u001b[0m 489us/step - categorical_accuracy: 1.0000 - loss: 0.0090 - val_categorical_accuracy: 1.0000 - val_loss: 1.2852\n",
      "Epoch 7/10\n",
      "\u001b[1m3441/3441\u001b[0m \u001b[32m━━━━━━━━━━━━━━━━━━━━\u001b[0m\u001b[37m\u001b[0m \u001b[1m2s\u001b[0m 495us/step - categorical_accuracy: 1.0000 - loss: 0.0072 - val_categorical_accuracy: 1.0000 - val_loss: 0.7032\n",
      "Epoch 8/10\n",
      "\u001b[1m3441/3441\u001b[0m \u001b[32m━━━━━━━━━━━━━━━━━━━━\u001b[0m\u001b[37m\u001b[0m \u001b[1m2s\u001b[0m 546us/step - categorical_accuracy: 1.0000 - loss: 0.0065 - val_categorical_accuracy: 1.0000 - val_loss: 0.8838\n",
      "Epoch 9/10\n",
      "\u001b[1m3441/3441\u001b[0m \u001b[32m━━━━━━━━━━━━━━━━━━━━\u001b[0m\u001b[37m\u001b[0m \u001b[1m2s\u001b[0m 545us/step - categorical_accuracy: 1.0000 - loss: 0.0064 - val_categorical_accuracy: 1.0000 - val_loss: 0.9440\n",
      "Epoch 10/10\n",
      "\u001b[1m3441/3441\u001b[0m \u001b[32m━━━━━━━━━━━━━━━━━━━━\u001b[0m\u001b[37m\u001b[0m \u001b[1m2s\u001b[0m 539us/step - categorical_accuracy: 1.0000 - loss: 0.0063 - val_categorical_accuracy: 1.0000 - val_loss: 1.4765\n",
      "\u001b[1m267/267\u001b[0m \u001b[32m━━━━━━━━━━━━━━━━━━━━\u001b[0m\u001b[37m\u001b[0m \u001b[1m0s\u001b[0m 384us/step - categorical_accuracy: 1.0000 - loss: 1.4910\n",
      "Neural Network Accuracy:  1.0\n"
     ]
    }
   ],
   "source": [
    "from keras.models import Sequential\n",
    "from keras.layers import Dense\n",
    "from sklearn.preprocessing import StandardScaler\n",
    "\n",
    "# Scale the data (important for neural networks)\n",
    "scaler = StandardScaler()\n",
    "X_train_scaled = scaler.fit_transform(X_train)\n",
    "X_test_scaled = scaler.transform(X_test)\n",
    "\n",
    "# Build a simple Neural Network\n",
    "nn_model = Sequential([\n",
    "    Dense(64, input_dim=X_train.shape[1], activation='relu'),\n",
    "    Dense(32, activation='relu'),\n",
    "    Dense(1, activation='sigmoid')  # Sigmoid for binary classification\n",
    "])\n",
    "\n",
    "# Compile the model\n",
    "nn_model.compile(optimizer='adam', loss='binary_crossentropy', metrics=['categorical_accuracy'])\n",
    "\n",
    "# Train the model\n",
    "nn_model.fit(X_train_scaled, y_train, epochs=10, batch_size=32, validation_data=(X_test_scaled, y_test))\n",
    "\n",
    "# Evaluate the model\n",
    "nn_loss, nn_accuracy = nn_model.evaluate(X_test_scaled, y_test)\n",
    "print(\"Neural Network Accuracy: \", nn_accuracy)\n"
   ]
  },
  {
   "cell_type": "code",
   "execution_count": null,
   "metadata": {},
   "outputs": [
    {
     "name": "stderr",
     "output_type": "stream",
     "text": [
      "/Users/jesusocariz/Github/.venv/lib/python3.9/site-packages/sklearn/base.py:474: FutureWarning: `BaseEstimator._validate_data` is deprecated in 1.6 and will be removed in 1.7. Use `sklearn.utils.validation.validate_data` instead. This function becomes public and is part of the scikit-learn developer API.\n",
      "  warnings.warn(\n"
     ]
    },
    {
     "name": "stdout",
     "output_type": "stream",
     "text": [
      "Epoch 1/50\n"
     ]
    },
    {
     "name": "stderr",
     "output_type": "stream",
     "text": [
      "/Users/jesusocariz/Github/.venv/lib/python3.9/site-packages/keras/src/layers/core/dense.py:87: UserWarning: Do not pass an `input_shape`/`input_dim` argument to a layer. When using Sequential models, prefer using an `Input(shape)` object as the first layer in the model instead.\n",
      "  super().__init__(activity_regularizer=activity_regularizer, **kwargs)\n"
     ]
    },
    {
     "name": "stdout",
     "output_type": "stream",
     "text": [
      "\u001b[1m3441/3441\u001b[0m \u001b[32m━━━━━━━━━━━━━━━━━━━━\u001b[0m\u001b[37m\u001b[0m \u001b[1m1s\u001b[0m 245us/step - AUC: 0.811\n",
      "\u001b[1m267/267\u001b[0m \u001b[32m━━━━━━━━━━━━━━━━━━━━\u001b[0m\u001b[37m\u001b[0m \u001b[1m0s\u001b[0m 272us/step\n",
      "Epoch 1 - Train F1: 0.2594 - Validation F1: 0.0137\n",
      "\u001b[1m3441/3441\u001b[0m \u001b[32m━━━━━━━━━━━━━━━━━━━━\u001b[0m\u001b[37m\u001b[0m \u001b[1m4s\u001b[0m 1ms/step - AUC: 0.8122 - Recall: 0.4705 - loss: 0.7543 - val_AUC: 0.7861 - val_Recall: 0.8205 - val_loss: 0.9851 - learning_rate: 0.0010\n",
      "Epoch 2/50\n",
      "\u001b[1m3441/3441\u001b[0m \u001b[32m━━━━━━━━━━━━━━━━━━━━\u001b[0m\u001b[37m\u001b[0m \u001b[1m1s\u001b[0m 241us/step - AUC: 0.903\n",
      "\u001b[1m267/267\u001b[0m \u001b[32m━━━━━━━━━━━━━━━━━━━━\u001b[0m\u001b[37m\u001b[0m \u001b[1m0s\u001b[0m 269us/step\n",
      "Epoch 2 - Train F1: 0.2566 - Validation F1: 0.0137\n",
      "\u001b[1m3441/3441\u001b[0m \u001b[32m━━━━━━━━━━━━━━━━━━━━\u001b[0m\u001b[37m\u001b[0m \u001b[1m3s\u001b[0m 971us/step - AUC: 0.9033 - Recall: 0.7547 - loss: 0.5778 - val_AUC: 0.7839 - val_Recall: 0.8205 - val_loss: 0.9852 - learning_rate: 0.0010\n",
      "Epoch 3/50\n",
      "\u001b[1m3441/3441\u001b[0m \u001b[32m━━━━━━━━━━━━━━━━━━━━\u001b[0m\u001b[37m\u001b[0m \u001b[1m1s\u001b[0m 243us/step - AUC: 0.909\n",
      "\u001b[1m267/267\u001b[0m \u001b[32m━━━━━━━━━━━━━━━━━━━━\u001b[0m\u001b[37m\u001b[0m \u001b[1m0s\u001b[0m 273us/step\n",
      "Epoch 3 - Train F1: 0.2637 - Validation F1: 0.0638\n",
      "\u001b[1m3441/3441\u001b[0m \u001b[32m━━━━━━━━━━━━━━━━━━━━\u001b[0m\u001b[37m\u001b[0m \u001b[1m3s\u001b[0m 960us/step - AUC: 0.9096 - Recall: 0.7913 - loss: 0.5494 - val_AUC: 0.7930 - val_Recall: 0.8205 - val_loss: 0.9852 - learning_rate: 0.0010\n",
      "Epoch 4/50\n",
      "\u001b[1m3441/3441\u001b[0m \u001b[32m━━━━━━━━━━━━━━━━━━━━\u001b[0m\u001b[37m\u001b[0m \u001b[1m1s\u001b[0m 240us/step - AUC: 0.905\n",
      "\u001b[1m267/267\u001b[0m \u001b[32m━━━━━━━━━━━━━━━━━━━━\u001b[0m\u001b[37m\u001b[0m \u001b[1m0s\u001b[0m 271us/step\n",
      "Epoch 4 - Train F1: 0.2626 - Validation F1: 0.0182\n",
      "\u001b[1m3441/3441\u001b[0m \u001b[32m━━━━━━━━━━━━━━━━━━━━\u001b[0m\u001b[37m\u001b[0m \u001b[1m3s\u001b[0m 966us/step - AUC: 0.9058 - Recall: 0.7875 - loss: 0.5553 - val_AUC: 0.7840 - val_Recall: 0.8205 - val_loss: 0.9852 - learning_rate: 0.0010\n",
      "Epoch 5/50\n",
      "\u001b[1m3441/3441\u001b[0m \u001b[32m━━━━━━━━━━━━━━━━━━━━\u001b[0m\u001b[37m\u001b[0m \u001b[1m1s\u001b[0m 243us/step - AUC: 0.897\n",
      "\u001b[1m267/267\u001b[0m \u001b[32m━━━━━━━━━━━━━━━━━━━━\u001b[0m\u001b[37m\u001b[0m \u001b[1m0s\u001b[0m 272us/step\n",
      "Epoch 5 - Train F1: 0.2647 - Validation F1: 0.0228\n",
      "\u001b[1m3441/3441\u001b[0m \u001b[32m━━━━━━━━━━━━━━━━━━━━\u001b[0m\u001b[37m\u001b[0m \u001b[1m3s\u001b[0m 971us/step - AUC: 0.8976 - Recall: 0.7907 - loss: 0.5474 - val_AUC: 0.7839 - val_Recall: 0.8205 - val_loss: 0.9852 - learning_rate: 5.0000e-04\n",
      "Epoch 6/50\n",
      "\u001b[1m3441/3441\u001b[0m \u001b[32m━━━━━━━━━━━━━━━━━━━━\u001b[0m\u001b[37m\u001b[0m \u001b[1m1s\u001b[0m 249us/step - AUC: 0.907\n",
      "\u001b[1m267/267\u001b[0m \u001b[32m━━━━━━━━━━━━━━━━━━━━\u001b[0m\u001b[37m\u001b[0m \u001b[1m0s\u001b[0m 268us/step\n",
      "Epoch 6 - Train F1: 0.2640 - Validation F1: 0.0137\n",
      "\u001b[1m3441/3441\u001b[0m \u001b[32m━━━━━━━━━━━━━━━━━━━━\u001b[0m\u001b[37m\u001b[0m \u001b[1m3s\u001b[0m 949us/step - AUC: 0.9072 - Recall: 0.8007 - loss: 0.5399 - val_AUC: 0.7840 - val_Recall: 0.8205 - val_loss: 0.9852 - learning_rate: 5.0000e-04\n",
      "\u001b[1m267/267\u001b[0m \u001b[32m━━━━━━━━━━━━━━━━━━━━\u001b[0m\u001b[37m\u001b[0m \u001b[1m0s\u001b[0m 270us/step\n",
      "Classification Report:\n",
      "              precision    recall  f1-score   support\n",
      "\n",
      "           0       1.00      0.75      0.86      8492\n",
      "           1       0.01      0.82      0.03        39\n",
      "\n",
      "    accuracy                           0.75      8531\n",
      "   macro avg       0.51      0.78      0.44      8531\n",
      "weighted avg       0.99      0.75      0.85      8531\n",
      "\n",
      "ROC-AUC: 0.7846676208075172\n",
      "\u001b[1m267/267\u001b[0m \u001b[32m━━━━━━━━━━━━━━━━━━━━\u001b[0m\u001b[37m\u001b[0m \u001b[1m0s\u001b[0m 268us/step\n",
      "PR-AUC: 0.40733557927887865\n"
     ]
    }
   ],
   "source": [
    "# Import necessary libraries\n",
    "import tensorflow as tf\n",
    "from tensorflow.keras.metrics import AUC\n",
    "from tensorflow.keras import backend as K\n",
    "from sklearn.metrics import f1_score\n",
    "import numpy as np\n",
    "from sklearn.model_selection import train_test_split\n",
    "from sklearn.preprocessing import StandardScaler\n",
    "from sklearn.utils import class_weight\n",
    "from imblearn.over_sampling import SMOTE\n",
    "from keras.models import Sequential\n",
    "from keras.layers import Dense, Dropout\n",
    "from keras.callbacks import EarlyStopping, ReduceLROnPlateau\n",
    "from sklearn.metrics import classification_report, roc_auc_score, precision_recall_curve, auc\n",
    "\n",
    "# Step 1: Define a custom callback to compute F1 during training\n",
    "class F1ScoreCallback(tf.keras.callbacks.Callback):\n",
    "    def __init__(self, X_train, y_train, X_val, y_val, top_train=4800, top_val=400):\n",
    "        super(F1ScoreCallback, self).__init__()\n",
    "        self.X_train = X_train\n",
    "        self.y_train = y_train\n",
    "        self.X_val = X_val\n",
    "        self.y_val = y_val\n",
    "        self.top_train = top_train\n",
    "        self.top_val = top_val\n",
    "\n",
    "    def on_epoch_end(self, epoch, logs=None):\n",
    "        # Get predicted probabilities for training and validation sets\n",
    "        train_probabilities = self.model.predict(self.X_train)\n",
    "        val_probabilities = self.model.predict(self.X_val)\n",
    "        \n",
    "        # Get the indices of the top 4800 (train) and 400 (val) highest probabilities\n",
    "        top_train_idx = np.argsort(train_probabilities.flatten())[::-1][:self.top_train]\n",
    "        top_val_idx = np.argsort(val_probabilities.flatten())[::-1][:self.top_val]\n",
    "        \n",
    "        # Create adjusted labels (1 for the top probabilities, else 0)\n",
    "        train_predicted_labels = np.zeros_like(self.y_train)\n",
    "        train_predicted_labels[top_train_idx] = 1\n",
    "        \n",
    "        val_predicted_labels = np.zeros_like(self.y_val)\n",
    "        val_predicted_labels[top_val_idx] = 1\n",
    "        \n",
    "        # Compute F1 score for both train and validation sets\n",
    "        train_f1 = f1_score(self.y_train, train_predicted_labels)\n",
    "        val_f1 = f1_score(self.y_val, val_predicted_labels)\n",
    "        \n",
    "        # Print F1 scores for both train and validation sets\n",
    "        print(f'Epoch {epoch+1} - Train F1: {train_f1:.4f} - Validation F1: {val_f1:.4f}')\n",
    "\n",
    "def f1_score(y_true, y_pred):\n",
    "    # Ensure both tensors are the same type\n",
    "    y_true = K.cast(y_true, 'float32')\n",
    "    y_pred = K.cast(y_pred, 'float32')\n",
    "    \n",
    "    # Convert probabilities to binary (0 or 1)\n",
    "    y_pred = K.round(y_pred)  \n",
    "    \n",
    "    tp = K.sum(y_true * y_pred)  # True Positives\n",
    "    fp = K.sum((1 - y_true) * y_pred)  # False Positives\n",
    "    fn = K.sum(y_true * (1 - y_pred))  # False Negatives\n",
    "    \n",
    "    precision = tp / (tp + fp + K.epsilon())  # Precision calculation\n",
    "    recall = tp / (tp + fn + K.epsilon())  # Recall calculation\n",
    "    \n",
    "    f1 = 2 * (precision * recall) / (precision + recall + K.epsilon())  # F1 score calculation\n",
    "    return f1\n",
    "\n",
    "def f1_loss_class1(y_true, y_pred):\n",
    "    \"\"\"\n",
    "    Custom loss function to maximize F1-score for class 1.\n",
    "    \"\"\"\n",
    "    y_true = K.cast(y_true, 'float32')\n",
    "    y_pred = K.clip(y_pred, 1e-7, 1 - 1e-7)  # Prevent log(0) issues\n",
    "\n",
    "    tp = K.sum(y_true * y_pred)  # True Positives\n",
    "    fp = K.sum((1 - y_true) * y_pred)  # False Positives\n",
    "    fn = K.sum(y_true * (1 - y_pred))  # False Negatives\n",
    "\n",
    "    precision = tp / (tp + fp + K.epsilon())  # Precision\n",
    "    recall = tp / (tp + fn + K.epsilon())  # Recall\n",
    "\n",
    "    f1 = 2 * (precision * recall) / (precision + recall + K.epsilon())  # F1-score\n",
    "    return 1 - f1  # Subtract from 1 to make it a loss function\n",
    "\n",
    "# Define Focal Loss\n",
    "def focal_loss(alpha=0.25, gamma=2.0):\n",
    "    def loss(y_true, y_pred):\n",
    "        y_true = K.cast(y_true, 'float32')\n",
    "        y_pred = K.clip(y_pred, 1e-7, 1 - 1e-7)  # Prevent log(0) issues\n",
    "        \n",
    "        # Compute focal loss\n",
    "        loss = -y_true * alpha * K.pow(1 - y_pred, gamma) * K.log(y_pred) \\\n",
    "               - (1 - y_true) * (1 - alpha) * K.pow(y_pred, gamma) * K.log(1 - y_pred)\n",
    "        return K.mean(loss)\n",
    "    \n",
    "    return loss\n",
    "\n",
    "f1_callback = F1ScoreCallback(X_train_scaled, y_train, X_test, y_test)\n",
    "\n",
    "# 1. Scale the data\n",
    "scaler = StandardScaler()\n",
    "X_train_scaled = scaler.fit_transform(X_train)\n",
    "X_test_scaled = scaler.transform(X_test)\n",
    "\n",
    "# 2. Apply SMOTE to balance the data by oversampling the minority class\n",
    "smote = SMOTE(sampling_strategy='auto', random_state=42)\n",
    "X_train_resampled, y_train_resampled = smote.fit_resample(X_train_scaled, y_train)\n",
    "X_train_resampled = X_train_scaled\n",
    "y_train_resampled = y_train\n",
    "\n",
    "# 3. Compute class weights to handle imbalance\n",
    "class_weights = class_weight.compute_class_weight('balanced', classes=np.unique(y_train), y=y_train)\n",
    "class_weight_dict = {i: class_weights[i] for i in range(len(class_weights))}\n",
    "\n",
    "# 4. Build the Neural Network Model\n",
    "nn_model = Sequential([\n",
    "    Dense(64, input_dim=X_train_resampled.shape[1], activation='relu'),\n",
    "    Dropout(0.5),  # Dropout for regularization\n",
    "    Dense(32, activation='relu'),\n",
    "    Dropout(0.5),  # Dropout for regularization\n",
    "    Dense(1, activation='sigmoid')  # Sigmoid for binary classification (fraud vs non-fraud)\n",
    "])\n",
    "\n",
    "# Compile the model\n",
    "nn_model.compile(optimizer='adam', loss=f1_loss_class1, metrics=['Recall', 'AUC'])\n",
    "\n",
    "# 5. Set up callbacks for early stopping and reducing learning rate on plateau\n",
    "early_stopping = EarlyStopping(monitor='val_loss', patience=5, restore_best_weights=True)\n",
    "reduce_lr = ReduceLROnPlateau(monitor='val_loss', factor=0.5, patience=3)\n",
    "\n",
    "# 6. Train the model with class weights and callbacks\n",
    "nn_model.fit(X_train_resampled, y_train_resampled, epochs=50, batch_size=32, validation_data=(X_test_scaled, y_test),\n",
    "             class_weight=class_weight_dict, callbacks=[early_stopping, reduce_lr, f1_callback])\n",
    "\n",
    "# 7. Predict using the trained model\n",
    "nn_predictions = nn_model.predict(X_test_scaled)\n",
    "nn_predictions = (nn_predictions > 0.5).astype(int)  # Convert probabilities to binary labels\n",
    "\n",
    "# 8. Evaluate the model\n",
    "print(\"Classification Report:\")\n",
    "print(classification_report(y_test, nn_predictions))\n",
    "\n",
    "# 9. Compute ROC-AUC\n",
    "roc_auc = roc_auc_score(y_test, nn_predictions)\n",
    "print(f'ROC-AUC: {roc_auc}')\n",
    "\n",
    "# 10. Compute Precision-Recall AUC\n",
    "precision, recall, _ = precision_recall_curve(y_test, nn_model.predict(X_test_scaled))\n",
    "pr_auc = auc(recall, precision)\n",
    "print(f'PR-AUC: {pr_auc}')\n"
   ]
  },
  {
   "cell_type": "code",
   "execution_count": 47,
   "metadata": {},
   "outputs": [
    {
     "name": "stdout",
     "output_type": "stream",
     "text": [
      "\u001b[1m267/267\u001b[0m \u001b[32m━━━━━━━━━━━━━━━━━━━━\u001b[0m\u001b[37m\u001b[0m \u001b[1m0s\u001b[0m 272us/step\n",
      "Optimized F1-score for class 1: 0.0091\n"
     ]
    }
   ],
   "source": [
    "# Predict probabilities\n",
    "y_pred_proba = nn_model.predict(X_test)\n",
    "\n",
    "# Find the threshold that maximizes F1-score\n",
    "from sklearn.metrics import precision_recall_curve, f1_score\n",
    "\n",
    "precision, recall, thresholds = precision_recall_curve(y_test, y_pred_proba)\n",
    "f1_scores = 2 * (precision * recall) / (precision + recall + 1e-7)\n",
    "best_threshold = thresholds[f1_scores.argmax()]  # Select best threshold\n",
    "\n",
    "# Apply best threshold to make predictions\n",
    "y_pred = (y_pred_proba >= best_threshold).astype(int)\n",
    "\n",
    "# Compute F1-score\n",
    "f1 = f1_score(y_test, y_pred)\n",
    "print(f\"Optimized F1-score for class 1: {f1:.4f}\")"
   ]
  },
  {
   "cell_type": "code",
   "execution_count": 48,
   "metadata": {},
   "outputs": [
    {
     "name": "stdout",
     "output_type": "stream",
     "text": [
      "Isolation Forest Accuracy:  0.9835892626890165\n",
      "              precision    recall  f1-score   support\n",
      "\n",
      "           0       1.00      0.99      0.99      8492\n",
      "           1       0.05      0.15      0.08        39\n",
      "\n",
      "    accuracy                           0.98      8531\n",
      "   macro avg       0.52      0.57      0.54      8531\n",
      "weighted avg       0.99      0.98      0.99      8531\n",
      "\n"
     ]
    }
   ],
   "source": [
    "from sklearn.ensemble import IsolationForest\n",
    "\n",
    "# Initialize the Isolation Forest model\n",
    "iso_forest = IsolationForest(contamination=0.01, random_state=42)\n",
    "\n",
    "# Train the model on the training data\n",
    "iso_forest.fit(X_train)\n",
    "\n",
    "# Predictions: -1 means anomaly, 1 means normal\n",
    "iso_predictions = iso_forest.predict(X_test)\n",
    "\n",
    "# Convert -1 to 1 for anomaly and 1 to 0 for normal to match the classification labels\n",
    "iso_predictions = [1 if x == -1 else 0 for x in iso_predictions]\n",
    "\n",
    "# Evaluate the model\n",
    "print(\"Isolation Forest Accuracy: \", accuracy_score(y_test, iso_predictions))\n",
    "print(classification_report(y_test, iso_predictions))\n"
   ]
  },
  {
   "cell_type": "code",
   "execution_count": 49,
   "metadata": {},
   "outputs": [
    {
     "name": "stdout",
     "output_type": "stream",
     "text": [
      "One-Class SVM Accuracy:  0.9873402883600985\n",
      "              precision    recall  f1-score   support\n",
      "\n",
      "           0       1.00      0.99      0.99      8492\n",
      "           1       0.00      0.00      0.00        39\n",
      "\n",
      "    accuracy                           0.99      8531\n",
      "   macro avg       0.50      0.50      0.50      8531\n",
      "weighted avg       0.99      0.99      0.99      8531\n",
      "\n"
     ]
    }
   ],
   "source": [
    "from sklearn.svm import OneClassSVM\n",
    "\n",
    "# Initialize the One-Class SVM model\n",
    "one_class_svm = OneClassSVM(nu=0.01, kernel='rbf', gamma='scale')\n",
    "\n",
    "# Train the model on the training data (using only the features)\n",
    "one_class_svm.fit(X_train)\n",
    "\n",
    "# Predictions: -1 means anomaly, 1 means normal\n",
    "svm_predictions = one_class_svm.predict(X_test)\n",
    "\n",
    "# Convert -1 to 1 for anomaly and 1 to 0 for normal to match the classification labels\n",
    "svm_predictions = [1 if x == -1 else 0 for x in svm_predictions]\n",
    "\n",
    "# Evaluate the model\n",
    "print(\"One-Class SVM Accuracy: \", accuracy_score(y_test, svm_predictions))\n",
    "print(classification_report(y_test, svm_predictions))\n"
   ]
  },
  {
   "cell_type": "code",
   "execution_count": 50,
   "metadata": {},
   "outputs": [
    {
     "data": {
      "text/plain": [
       "flag\n",
       "0    109254\n",
       "1       836\n",
       "Name: count, dtype: int64"
      ]
     },
     "execution_count": 50,
     "metadata": {},
     "output_type": "execute_result"
    }
   ],
   "source": [
    "y_train.value_counts()"
   ]
  },
  {
   "cell_type": "code",
   "execution_count": 51,
   "metadata": {},
   "outputs": [
    {
     "name": "stdout",
     "output_type": "stream",
     "text": [
      "\u001b[1m267/267\u001b[0m \u001b[32m━━━━━━━━━━━━━━━━━━━━\u001b[0m\u001b[37m\u001b[0m \u001b[1m0s\u001b[0m 281us/step\n",
      "Recall for the whole test set (considering only top 400 fraud predictions): 0.5385\n"
     ]
    }
   ],
   "source": [
    "from sklearn.metrics import recall_score\n",
    "import numpy as np\n",
    "\n",
    "# Step 1: Get the predicted probabilities from the Neural Network model (already trained)\n",
    "fraud_probabilities = nn_model.predict(X_test_scaled)  # Predict probabilities for fraud (class 1)\n",
    "\n",
    "# Step 2: Rank transactions by predicted fraud probability and select top 400\n",
    "top_400_idx = np.argsort(fraud_probabilities.flatten())[::-1][:400]  # Sort in descending order and pick top 400\n",
    "\n",
    "# Step 3: Create a binary array for the entire test set, initially set to 0\n",
    "predicted_labels = np.zeros_like(fraud_probabilities.flatten())\n",
    "\n",
    "# Step 4: Assign 1 to the top 400 predictions with the highest likelihood of fraud\n",
    "predicted_labels[top_400_idx] = 1\n",
    "\n",
    "# Step 5: Compute Recall for the whole test dataset\n",
    "recall_all = recall_score(y_test, predicted_labels)\n",
    "\n",
    "# Output the recall for the whole test set\n",
    "print(f'Recall for the whole test set (considering only top 400 fraud predictions): {recall_all:.4f}')\n"
   ]
  },
  {
   "cell_type": "code",
   "execution_count": 52,
   "metadata": {},
   "outputs": [
    {
     "name": "stderr",
     "output_type": "stream",
     "text": [
      "/Users/jesusocariz/Github/.venv/lib/python3.9/site-packages/sklearn/base.py:474: FutureWarning: `BaseEstimator._validate_data` is deprecated in 1.6 and will be removed in 1.7. Use `sklearn.utils.validation.validate_data` instead. This function becomes public and is part of the scikit-learn developer API.\n",
      "  warnings.warn(\n"
     ]
    },
    {
     "name": "stdout",
     "output_type": "stream",
     "text": [
      "Top 400 Fraudulent Transactions (Predictions with highest likelihood):\n",
      "Predicted Probabilities of Fraud: [1. 1. 1. 1. 1. 1. 1. 1. 1. 1. 1. 1. 1. 1. 1. 1. 1. 1. 1. 1. 1. 1. 1. 1.\n",
      " 1. 1. 1. 1. 1. 1. 1. 1. 1. 1. 1. 1. 1. 1. 1. 1. 1. 1. 1. 1. 1. 1. 1. 1.\n",
      " 1. 1. 1. 1. 1. 1. 1. 1. 1. 1. 1. 1. 1. 1. 1. 1. 1. 1. 1. 1. 1. 1. 1. 1.\n",
      " 1. 1. 1. 1. 1. 1. 1. 1. 1. 1. 1. 1. 1. 1. 1. 1. 1. 1. 1. 1. 1. 1. 1. 1.\n",
      " 1. 1. 1. 1. 1. 1. 1. 1. 1. 1. 1. 1. 1. 1. 1. 1. 1. 1. 1. 1. 1. 1. 1. 1.\n",
      " 1. 1. 1. 1. 1. 1. 1. 1. 1. 1. 1. 1. 1. 1. 1. 1. 1. 1. 1. 1. 1. 1. 1. 1.\n",
      " 1. 1. 1. 1. 1. 1. 1. 1. 1. 1. 1. 1. 1. 1. 1. 1. 1. 1. 1. 1. 1. 1. 1. 1.\n",
      " 1. 1. 1. 1. 1. 1. 1. 1. 1. 1. 1. 1. 1. 1. 1. 1. 1. 1. 1. 1. 1. 1. 1. 1.\n",
      " 1. 1. 1. 1. 1. 1. 1. 1. 1. 1. 1. 1. 1. 1. 1. 1. 1. 1. 1. 1. 1. 1. 1. 1.\n",
      " 1. 1. 1. 1. 1. 1. 1. 1. 1. 1. 1. 1. 1. 1. 1. 1. 1. 1. 1. 1. 1. 1. 1. 1.\n",
      " 1. 1. 1. 1. 1. 1. 1. 1. 1. 1. 1. 1. 1. 1. 1. 1. 1. 1. 1. 1. 1. 1. 1. 1.\n",
      " 1. 1. 1. 1. 1. 1. 1. 1. 1. 1. 1. 1. 1. 1. 1. 1. 1. 1. 1. 1. 1. 1. 1. 1.\n",
      " 1. 1. 1. 1. 1. 1. 1. 1. 1. 1. 1. 1. 1. 1. 1. 1. 1. 1. 1. 1. 1. 1. 1. 1.\n",
      " 1. 1. 1. 1. 1. 1. 1. 1. 1. 1. 1. 1. 1. 1. 1. 1. 1. 1. 1. 1. 1. 1. 1. 1.\n",
      " 1. 1. 1. 1. 1. 1. 1. 1. 1. 1. 1. 1. 1. 1. 1. 1. 1. 1. 1. 1. 1. 1. 1. 1.\n",
      " 1. 1. 1. 1. 1. 1. 1. 1. 1. 1. 1. 1. 1. 1. 1. 1. 1. 1. 1. 1. 1. 1. 1. 1.\n",
      " 1. 1. 1. 1. 1. 1. 1. 1. 1. 1. 1. 1. 1. 1. 1. 1.]\n",
      "Actual Fraud Labels: 57240    0\n",
      "99033    0\n",
      "98957    0\n",
      "98959    0\n",
      "19810    0\n",
      "        ..\n",
      "85733    1\n",
      "40113    0\n",
      "87349    0\n",
      "86755    0\n",
      "32965    0\n",
      "Name: flag, Length: 400, dtype: int64\n"
     ]
    }
   ],
   "source": [
    "import numpy as np\n",
    "from sklearn.model_selection import train_test_split\n",
    "from sklearn.linear_model import LogisticRegression\n",
    "from sklearn.preprocessing import StandardScaler\n",
    "from sklearn.utils import class_weight\n",
    "from imblearn.over_sampling import SMOTE\n",
    "\n",
    "\n",
    "\n",
    "# Step 2: Scale the data (important for Logistic Regression)\n",
    "scaler = StandardScaler()\n",
    "X_train_scaled = scaler.fit_transform(X_train)\n",
    "X_test_scaled = scaler.transform(X_test)\n",
    "\n",
    "# Step 3: Apply SMOTE to balance the dataset (optional, if imbalance is extreme)\n",
    "smote = SMOTE(sampling_strategy='auto', random_state=42)\n",
    "X_train_resampled, y_train_resampled = smote.fit_resample(X_train_scaled, y_train)\n",
    "\n",
    "# Step 4: Train a Logistic Regression model\n",
    "logreg_model = LogisticRegression(class_weight='balanced', random_state=42)\n",
    "logreg_model.fit(X_train_resampled, y_train_resampled)\n",
    "\n",
    "# Step 5: Predict probabilities for the test set\n",
    "fraud_probabilities = logreg_model.predict_proba(X_test_scaled)[:, 1]  # Get probability for class 1 (fraud)\n",
    "\n",
    "# Step 6: Rank transactions by predicted fraud probability and select top 400\n",
    "top_400_idx = np.argsort(fraud_probabilities)[::-1][:400]  # Sort and pick top 400 indices\n",
    "\n",
    "# Step 7: Retrieve the top 400 most likely fraud transactions\n",
    "top_400_predictions = X_test.iloc[top_400_idx]  # Features of top 400 fraud predictions\n",
    "top_400_actuals = y_test.iloc[top_400_idx]  # Actual target values for top 400\n",
    "top_400_probabilities = fraud_probabilities[top_400_idx]  # Predicted probabilities for top 400\n",
    "\n",
    "# Output the results\n",
    "print(\"Top 400 Fraudulent Transactions (Predictions with highest likelihood):\")\n",
    "print(\"Predicted Probabilities of Fraud:\", top_400_probabilities)\n",
    "print(\"Actual Fraud Labels:\", top_400_actuals)\n"
   ]
  },
  {
   "cell_type": "code",
   "execution_count": 55,
   "metadata": {},
   "outputs": [
    {
     "name": "stdout",
     "output_type": "stream",
     "text": [
      "8531\n"
     ]
    }
   ],
   "source": [
    "print(len(y_test))"
   ]
  },
  {
   "cell_type": "code",
   "execution_count": 56,
   "metadata": {},
   "outputs": [
    {
     "data": {
      "text/plain": [
       "flag\n",
       "0    109254\n",
       "1       836\n",
       "Name: count, dtype: int64"
      ]
     },
     "execution_count": 56,
     "metadata": {},
     "output_type": "execute_result"
    }
   ],
   "source": [
    "df[df['year']== 2017]['flag'].value_counts()"
   ]
  },
  {
   "cell_type": "code",
   "execution_count": 57,
   "metadata": {},
   "outputs": [
    {
     "data": {
      "text/plain": [
       "0.0076518937521738335"
      ]
     },
     "execution_count": 57,
     "metadata": {},
     "output_type": "execute_result"
    }
   ],
   "source": [
    "836/109254"
   ]
  }
 ],
 "metadata": {
  "kernelspec": {
   "display_name": ".venv",
   "language": "python",
   "name": "python3"
  },
  "language_info": {
   "codemirror_mode": {
    "name": "ipython",
    "version": 3
   },
   "file_extension": ".py",
   "mimetype": "text/x-python",
   "name": "python",
   "nbconvert_exporter": "python",
   "pygments_lexer": "ipython3",
   "version": "3.9.6"
  }
 },
 "nbformat": 4,
 "nbformat_minor": 2
}
